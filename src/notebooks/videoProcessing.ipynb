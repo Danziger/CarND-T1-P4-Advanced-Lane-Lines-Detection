{
 "cells": [
  {
   "cell_type": "code",
   "execution_count": 8,
   "metadata": {
    "collapsed": true
   },
   "outputs": [
    {
     "name": "stdout",
     "output_type": "stream",
     "text": [
      "Reloading Modules...\n\nModules Reloaded!\n"
     ]
    }
   ],
   "source": [
    "\n",
    "from importlib import reload\n",
    "from moviepy.editor import VideoFileClip\n",
    "from IPython.display import HTML\n",
    "\n",
    "import numpy as np\n",
    "import sys\n",
    "\n",
    "\n",
    "# Visualizations will be shown in the notebook:\n",
    "\n",
    "%matplotlib inline\n",
    "\n",
    "\n",
    "# Import local deps\n",
    "\n",
    "import src.helpers.lineRegressorWithMemory as LRM\n",
    "import src.helpers.imageProcessing as IP\n",
    "import src.helpers.plot as P\n",
    "\n",
    "\n",
    "if \"src.helpers.imageProcessing\" in sys.modules:\n",
    "    print(\"Reloading Modules...\")\n",
    "    \n",
    "    reload(LRM)\n",
    "    reload(IP)\n",
    "    reload(P)\n",
    "    \n",
    "    print(\"\\nModules Reloaded!\")\n"
   ]
  },
  {
   "cell_type": "code",
   "execution_count": 9,
   "metadata": {
    "collapsed": false
   },
   "outputs": [
    {
     "name": "stdout",
     "output_type": "stream",
     "text": [
      "Available videos:\n\n001 - Solid White Right.mp4\n002 - Solid Yellow Left.mp4\n003 - Challenge.mp4\n004 - Advanced Project.mp4\n005 - Advanced Project Challenge.mp4\n006 - Advanced Project Harder Challenge.mp4\n"
     ]
    }
   ],
   "source": [
    "\n",
    "# IMAGE PROCESSING:\n",
    "\n",
    "rightLineStream = LRM.LineStream()\n",
    "leftLineStream = LRM.LineStream()\n",
    "\n",
    "def process_image(imageRGB):\n",
    "    # NOTE: The output you return should be a color image (3 channel) for processing video below\n",
    "    # TODO: put your pipeline here,\n",
    "    # you should return the final output (image where lines are drawn on lanes)\n",
    "    \n",
    "    imageHLS = IP.rgb2hls(imageRGB)\n",
    "    imageYW = IP.yellowAndWhiteHlsFilter(imageHLS)\n",
    "    \n",
    "    WIDTH = imageYW.shape[1]\n",
    "    HEIGHT = imageYW.shape[0]\n",
    "    \n",
    "    REGION_MASK = np.array([[\n",
    "        # OUTER SHAPE:\n",
    "        \n",
    "        (0.05 * WIDTH, 0.90 * HEIGHT),\n",
    "        (0.45 * WIDTH, 0.60 * HEIGHT),\n",
    "        (0.55 * WIDTH, 0.60 * HEIGHT),\n",
    "        (0.95 * WIDTH, 0.90 * HEIGHT),\n",
    "        \n",
    "        # INNER CUTOUT:\n",
    "        \n",
    "        (0.70 * WIDTH, 0.90 * HEIGHT),\n",
    "        (0.50 * WIDTH, 0.70 * HEIGHT),\n",
    "        (0.30 * WIDTH, 0.90 * HEIGHT),\n",
    "    ]], dtype=np.int32)\n",
    "    \n",
    "    imageRegion = IP.regionOfInterestFilter(imageYW, REGION_MASK)\n",
    "    imageBlur = IP.gaussianBlur(imageRegion, 5)\n",
    "    imageCanny = IP.canny(imageBlur, 50, 100)\n",
    "    imagesHoughLines = IP.houghLines(imageCanny, 2, np.pi / 180, 30, 20, 80)\n",
    "        \n",
    "    imageLines = np.zeros((imageRGB.shape[0], imageRGB.shape[1], 3), dtype=np.uint8)\n",
    "    \n",
    "    if imagesHoughLines is None:\n",
    "        rightLineStream.drawLineFromPoints(imageLines, [[]], [], [])\n",
    "        leftLineStream.drawLineFromPoints(imageLines, [[]], [], [])\n",
    "    else:\n",
    "        linesPoints = IP.classifyLinesPoints(imagesHoughLines, WIDTH)\n",
    "        right = linesPoints['right']\n",
    "        left = linesPoints['left']\n",
    "        \n",
    "        rightLineStream.drawLineFromPoints(imageLines, right['X'], right['Y'], right['weights'])\n",
    "        leftLineStream.drawLineFromPoints(imageLines, left['X'], left['Y'], left['weights'])\n",
    "        \n",
    "    return IP.weighted_img(imageLines, imageRGB)\n",
    "\n",
    "\n",
    "# VIDEO PROCESSING:\n",
    "\n",
    "outputDir = \"./output/videos/\"\n",
    "videosDir = \"./input/videos/\"\n",
    "videosNames = os.listdir(videosDir)\n",
    "\n",
    "def process_video(videoName):\n",
    "    print(\"--------\\n\\nProcessing %s:\" % videoName)\n",
    "\n",
    "    rightLineStream.reset()\n",
    "    leftLineStream.reset()\n",
    "    \n",
    "    inputClip = VideoFileClip(videosDir + videoName)\n",
    "    outputClip = inputClip.fl_image(process_image) # NOTE: this function expects color images!\n",
    "    %time outputClip.write_videofile(outputDir + videoName, audio=False)\n",
    "    \n",
    "    return outputClip\n",
    "    \n",
    "print(\"Available videos:\\n\")\n",
    "\n",
    "for videoName in videosNames: print(videoName)\n",
    "    "
   ]
  },
  {
   "cell_type": "code",
   "execution_count": 10,
   "metadata": {},
   "outputs": [
    {
     "name": "stdout",
     "output_type": "stream",
     "text": [
      "--------\n\nProcessing 001 - Solid White Right.mp4:\n"
     ]
    },
    {
     "name": "stdout",
     "output_type": "stream",
     "text": [
      "[MoviePy] >>>> Building video ./output/videos/001 - Solid White Right.mp4\n"
     ]
    },
    {
     "name": "stdout",
     "output_type": "stream",
     "text": [
      "[MoviePy] Writing video ./output/videos/001 - Solid White Right.mp4\n"
     ]
    },
    {
     "name": "stderr",
     "output_type": "stream",
     "text": [
      "\r  0%|          | 0/222 [00:00<?, ?it/s]"
     ]
    },
    {
     "name": "stderr",
     "output_type": "stream",
     "text": [
      "\r  4%|▍         | 9/222 [00:00<00:02, 89.16it/s]"
     ]
    },
    {
     "name": "stderr",
     "output_type": "stream",
     "text": [
      "\r  9%|▊         | 19/222 [00:00<00:02, 91.44it/s]"
     ]
    },
    {
     "name": "stderr",
     "output_type": "stream",
     "text": [
      "\r 13%|█▎        | 28/222 [00:00<00:02, 88.87it/s]"
     ]
    },
    {
     "name": "stderr",
     "output_type": "stream",
     "text": [
      "\r 17%|█▋        | 38/222 [00:00<00:02, 90.74it/s]"
     ]
    },
    {
     "name": "stderr",
     "output_type": "stream",
     "text": [
      "\r 21%|██        | 47/222 [00:00<00:02, 84.32it/s]"
     ]
    },
    {
     "name": "stderr",
     "output_type": "stream",
     "text": [
      "\r 25%|██▍       | 55/222 [00:00<00:02, 74.41it/s]"
     ]
    },
    {
     "name": "stderr",
     "output_type": "stream",
     "text": [
      "\r 28%|██▊       | 63/222 [00:00<00:02, 75.46it/s]"
     ]
    },
    {
     "name": "stderr",
     "output_type": "stream",
     "text": [
      "\r 32%|███▏      | 71/222 [00:00<00:02, 74.59it/s]"
     ]
    },
    {
     "name": "stderr",
     "output_type": "stream",
     "text": [
      "\r 36%|███▌      | 79/222 [00:00<00:01, 75.53it/s]"
     ]
    },
    {
     "name": "stderr",
     "output_type": "stream",
     "text": [
      "\r 39%|███▉      | 87/222 [00:01<00:01, 76.47it/s]"
     ]
    },
    {
     "name": "stderr",
     "output_type": "stream",
     "text": [
      "\r 43%|████▎     | 96/222 [00:01<00:01, 77.96it/s]"
     ]
    },
    {
     "name": "stderr",
     "output_type": "stream",
     "text": [
      "\r 47%|████▋     | 105/222 [00:01<00:01, 79.11it/s]"
     ]
    },
    {
     "name": "stderr",
     "output_type": "stream",
     "text": [
      "\r 51%|█████     | 113/222 [00:01<00:01, 76.22it/s]"
     ]
    },
    {
     "name": "stderr",
     "output_type": "stream",
     "text": [
      "\r 55%|█████▍    | 121/222 [00:01<00:01, 73.74it/s]"
     ]
    },
    {
     "name": "stderr",
     "output_type": "stream",
     "text": [
      "\r 58%|█████▊    | 129/222 [00:01<00:01, 69.78it/s]"
     ]
    },
    {
     "name": "stderr",
     "output_type": "stream",
     "text": [
      "\r 62%|██████▏   | 137/222 [00:01<00:01, 72.26it/s]"
     ]
    },
    {
     "name": "stderr",
     "output_type": "stream",
     "text": [
      "\r 65%|██████▌   | 145/222 [00:01<00:01, 70.92it/s]"
     ]
    },
    {
     "name": "stderr",
     "output_type": "stream",
     "text": [
      "\r 69%|██████▉   | 153/222 [00:01<00:00, 72.74it/s]"
     ]
    },
    {
     "name": "stderr",
     "output_type": "stream",
     "text": [
      "\r 73%|███████▎  | 161/222 [00:02<00:00, 68.71it/s]"
     ]
    },
    {
     "name": "stderr",
     "output_type": "stream",
     "text": [
      "\r 76%|███████▌  | 168/222 [00:02<00:00, 66.86it/s]"
     ]
    },
    {
     "name": "stderr",
     "output_type": "stream",
     "text": [
      "\r 79%|███████▉  | 175/222 [00:02<00:00, 54.58it/s]"
     ]
    },
    {
     "name": "stderr",
     "output_type": "stream",
     "text": [
      "\r 82%|████████▏ | 181/222 [00:02<00:00, 49.68it/s]"
     ]
    },
    {
     "name": "stderr",
     "output_type": "stream",
     "text": [
      "\r 84%|████████▍ | 187/222 [00:02<00:00, 48.74it/s]"
     ]
    },
    {
     "name": "stderr",
     "output_type": "stream",
     "text": [
      "\r 87%|████████▋ | 193/222 [00:02<00:00, 50.56it/s]"
     ]
    },
    {
     "name": "stderr",
     "output_type": "stream",
     "text": [
      "\r 91%|█████████ | 201/222 [00:02<00:00, 52.32it/s]"
     ]
    },
    {
     "name": "stderr",
     "output_type": "stream",
     "text": [
      "\r 93%|█████████▎| 207/222 [00:03<00:00, 51.49it/s]"
     ]
    },
    {
     "name": "stderr",
     "output_type": "stream",
     "text": [
      "\r 97%|█████████▋| 215/222 [00:03<00:00, 57.02it/s]"
     ]
    },
    {
     "name": "stderr",
     "output_type": "stream",
     "text": [
      "\r100%|█████████▉| 221/222 [00:03<00:00, 68.06it/s]"
     ]
    },
    {
     "name": "stderr",
     "output_type": "stream",
     "text": [
      "\n"
     ]
    },
    {
     "name": "stdout",
     "output_type": "stream",
     "text": [
      "[MoviePy] Done.\n"
     ]
    },
    {
     "name": "stdout",
     "output_type": "stream",
     "text": [
      "[MoviePy] >>>> Video ready: ./output/videos/001 - Solid White Right.mp4 \n\n"
     ]
    },
    {
     "name": "stdout",
     "output_type": "stream",
     "text": [
      "CPU times: user 3.42 s, sys: 655 ms, total: 4.08 s\nWall time: 3.74 s\n--------\n\nProcessing 002 - Solid Yellow Left.mp4:\n"
     ]
    },
    {
     "name": "stdout",
     "output_type": "stream",
     "text": [
      "[MoviePy] >>>> Building video ./output/videos/002 - Solid Yellow Left.mp4\n"
     ]
    },
    {
     "name": "stdout",
     "output_type": "stream",
     "text": [
      "[MoviePy] Writing video ./output/videos/002 - Solid Yellow Left.mp4\n"
     ]
    },
    {
     "name": "stderr",
     "output_type": "stream",
     "text": [
      "\r  0%|          | 0/682 [00:00<?, ?it/s]"
     ]
    },
    {
     "name": "stderr",
     "output_type": "stream",
     "text": [
      "\r  1%|▏         | 9/682 [00:00<00:08, 83.75it/s]"
     ]
    },
    {
     "name": "stderr",
     "output_type": "stream",
     "text": [
      "\r  3%|▎         | 20/682 [00:00<00:07, 88.04it/s]"
     ]
    },
    {
     "name": "stderr",
     "output_type": "stream",
     "text": [
      "\r  4%|▍         | 30/682 [00:00<00:07, 90.93it/s]"
     ]
    },
    {
     "name": "stderr",
     "output_type": "stream",
     "text": [
      "\r  6%|▌         | 40/682 [00:00<00:06, 92.76it/s]"
     ]
    },
    {
     "name": "stderr",
     "output_type": "stream",
     "text": [
      "\r  7%|▋         | 48/682 [00:00<00:07, 86.78it/s]"
     ]
    },
    {
     "name": "stderr",
     "output_type": "stream",
     "text": [
      "\r  8%|▊         | 57/682 [00:00<00:07, 84.66it/s]"
     ]
    },
    {
     "name": "stderr",
     "output_type": "stream",
     "text": [
      "\r 10%|▉         | 65/682 [00:00<00:08, 76.80it/s]"
     ]
    },
    {
     "name": "stderr",
     "output_type": "stream",
     "text": [
      "\r 11%|█         | 73/682 [00:00<00:08, 71.50it/s]"
     ]
    },
    {
     "name": "stderr",
     "output_type": "stream",
     "text": [
      "\r 12%|█▏        | 80/682 [00:00<00:08, 70.87it/s]"
     ]
    },
    {
     "name": "stderr",
     "output_type": "stream",
     "text": [
      "\r 13%|█▎        | 87/682 [00:01<00:08, 70.54it/s]"
     ]
    },
    {
     "name": "stderr",
     "output_type": "stream",
     "text": [
      "\r 14%|█▍        | 95/682 [00:01<00:08, 70.64it/s]"
     ]
    },
    {
     "name": "stderr",
     "output_type": "stream",
     "text": [
      "\r 15%|█▍        | 102/682 [00:01<00:08, 69.83it/s]"
     ]
    },
    {
     "name": "stderr",
     "output_type": "stream",
     "text": [
      "\r 16%|█▌        | 109/682 [00:01<00:08, 68.06it/s]"
     ]
    },
    {
     "name": "stderr",
     "output_type": "stream",
     "text": [
      "\r 17%|█▋        | 117/682 [00:01<00:07, 70.85it/s]"
     ]
    },
    {
     "name": "stderr",
     "output_type": "stream",
     "text": [
      "\r 18%|█▊        | 125/682 [00:01<00:07, 73.26it/s]"
     ]
    },
    {
     "name": "stderr",
     "output_type": "stream",
     "text": [
      "\r 20%|█▉        | 133/682 [00:01<00:07, 68.74it/s]"
     ]
    },
    {
     "name": "stderr",
     "output_type": "stream",
     "text": [
      "\r 21%|██        | 141/682 [00:01<00:07, 70.71it/s]"
     ]
    },
    {
     "name": "stderr",
     "output_type": "stream",
     "text": [
      "\r 22%|██▏       | 149/682 [00:01<00:07, 70.72it/s]"
     ]
    },
    {
     "name": "stderr",
     "output_type": "stream",
     "text": [
      "\r 23%|██▎       | 157/682 [00:02<00:07, 70.90it/s]"
     ]
    },
    {
     "name": "stderr",
     "output_type": "stream",
     "text": [
      "\r 24%|██▍       | 165/682 [00:02<00:07, 67.59it/s]"
     ]
    },
    {
     "name": "stderr",
     "output_type": "stream",
     "text": [
      "\r 25%|██▌       | 172/682 [00:02<00:07, 65.00it/s]"
     ]
    },
    {
     "name": "stderr",
     "output_type": "stream",
     "text": [
      "\r 26%|██▋       | 180/682 [00:02<00:07, 67.00it/s]"
     ]
    },
    {
     "name": "stderr",
     "output_type": "stream",
     "text": [
      "\r 28%|██▊       | 189/682 [00:02<00:06, 70.56it/s]"
     ]
    },
    {
     "name": "stderr",
     "output_type": "stream",
     "text": [
      "\r 29%|██▉       | 197/682 [00:02<00:06, 72.67it/s]"
     ]
    },
    {
     "name": "stderr",
     "output_type": "stream",
     "text": [
      "\r 30%|███       | 205/682 [00:02<00:06, 71.59it/s]"
     ]
    },
    {
     "name": "stderr",
     "output_type": "stream",
     "text": [
      "\r 31%|███       | 213/682 [00:02<00:06, 73.72it/s]"
     ]
    },
    {
     "name": "stderr",
     "output_type": "stream",
     "text": [
      "\r 33%|███▎      | 222/682 [00:02<00:06, 76.22it/s]"
     ]
    },
    {
     "name": "stderr",
     "output_type": "stream",
     "text": [
      "\r 34%|███▎      | 230/682 [00:03<00:05, 76.39it/s]"
     ]
    },
    {
     "name": "stderr",
     "output_type": "stream",
     "text": [
      "\r 35%|███▌      | 239/682 [00:03<00:05, 77.46it/s]"
     ]
    },
    {
     "name": "stderr",
     "output_type": "stream",
     "text": [
      "\r 36%|███▌      | 247/682 [00:03<00:05, 78.13it/s]"
     ]
    },
    {
     "name": "stderr",
     "output_type": "stream",
     "text": [
      "\r 37%|███▋      | 255/682 [00:03<00:05, 74.61it/s]"
     ]
    },
    {
     "name": "stderr",
     "output_type": "stream",
     "text": [
      "\r 39%|███▊      | 264/682 [00:03<00:05, 76.46it/s]"
     ]
    },
    {
     "name": "stderr",
     "output_type": "stream",
     "text": [
      "\r 40%|███▉      | 272/682 [00:03<00:05, 77.43it/s]"
     ]
    },
    {
     "name": "stderr",
     "output_type": "stream",
     "text": [
      "\r 41%|████      | 280/682 [00:03<00:05, 72.60it/s]"
     ]
    },
    {
     "name": "stderr",
     "output_type": "stream",
     "text": [
      "\r 42%|████▏     | 288/682 [00:03<00:05, 72.99it/s]"
     ]
    },
    {
     "name": "stderr",
     "output_type": "stream",
     "text": [
      "\r 43%|████▎     | 296/682 [00:04<00:06, 64.03it/s]"
     ]
    },
    {
     "name": "stderr",
     "output_type": "stream",
     "text": [
      "\r 44%|████▍     | 303/682 [00:04<00:05, 64.60it/s]"
     ]
    },
    {
     "name": "stderr",
     "output_type": "stream",
     "text": [
      "\r 45%|████▌     | 310/682 [00:04<00:05, 63.02it/s]"
     ]
    },
    {
     "name": "stderr",
     "output_type": "stream",
     "text": [
      "\r 46%|████▋     | 317/682 [00:04<00:05, 63.13it/s]"
     ]
    },
    {
     "name": "stderr",
     "output_type": "stream",
     "text": [
      "\r 48%|████▊     | 324/682 [00:04<00:05, 60.17it/s]"
     ]
    },
    {
     "name": "stderr",
     "output_type": "stream",
     "text": [
      "\r 49%|████▊     | 331/682 [00:04<00:05, 60.31it/s]"
     ]
    },
    {
     "name": "stderr",
     "output_type": "stream",
     "text": [
      "\r 50%|████▉     | 338/682 [00:04<00:05, 57.44it/s]"
     ]
    },
    {
     "name": "stderr",
     "output_type": "stream",
     "text": [
      "\r 51%|█████     | 346/682 [00:04<00:05, 61.70it/s]"
     ]
    },
    {
     "name": "stderr",
     "output_type": "stream",
     "text": [
      "\r 52%|█████▏    | 353/682 [00:05<00:05, 56.00it/s]"
     ]
    },
    {
     "name": "stderr",
     "output_type": "stream",
     "text": [
      "\r 53%|█████▎    | 359/682 [00:05<00:06, 52.21it/s]"
     ]
    },
    {
     "name": "stderr",
     "output_type": "stream",
     "text": [
      "\r 54%|█████▎    | 365/682 [00:05<00:06, 50.82it/s]"
     ]
    },
    {
     "name": "stderr",
     "output_type": "stream",
     "text": [
      "\r 54%|█████▍    | 371/682 [00:05<00:05, 52.20it/s]"
     ]
    },
    {
     "name": "stderr",
     "output_type": "stream",
     "text": [
      "\r 55%|█████▌    | 378/682 [00:05<00:05, 54.73it/s]"
     ]
    },
    {
     "name": "stderr",
     "output_type": "stream",
     "text": [
      "\r 56%|█████▋    | 384/682 [00:05<00:05, 55.75it/s]"
     ]
    },
    {
     "name": "stderr",
     "output_type": "stream",
     "text": [
      "\r 57%|█████▋    | 390/682 [00:05<00:05, 56.44it/s]"
     ]
    },
    {
     "name": "stderr",
     "output_type": "stream",
     "text": [
      "\r 58%|█████▊    | 396/682 [00:05<00:05, 51.89it/s]"
     ]
    },
    {
     "name": "stderr",
     "output_type": "stream",
     "text": [
      "\r 59%|█████▉    | 402/682 [00:05<00:05, 52.67it/s]"
     ]
    },
    {
     "name": "stderr",
     "output_type": "stream",
     "text": [
      "\r 60%|██████    | 411/682 [00:06<00:04, 58.58it/s]"
     ]
    },
    {
     "name": "stderr",
     "output_type": "stream",
     "text": [
      "\r 61%|██████▏   | 419/682 [00:06<00:04, 61.83it/s]"
     ]
    },
    {
     "name": "stderr",
     "output_type": "stream",
     "text": [
      "\r 62%|██████▏   | 426/682 [00:06<00:04, 61.31it/s]"
     ]
    },
    {
     "name": "stderr",
     "output_type": "stream",
     "text": [
      "\r 63%|██████▎   | 433/682 [00:06<00:03, 63.54it/s]"
     ]
    },
    {
     "name": "stderr",
     "output_type": "stream",
     "text": [
      "\r 65%|██████▍   | 440/682 [00:06<00:03, 60.53it/s]"
     ]
    },
    {
     "name": "stderr",
     "output_type": "stream",
     "text": [
      "\r 66%|██████▌   | 448/682 [00:06<00:03, 64.55it/s]"
     ]
    },
    {
     "name": "stderr",
     "output_type": "stream",
     "text": [
      "\r 67%|██████▋   | 455/682 [00:06<00:03, 65.94it/s]"
     ]
    },
    {
     "name": "stderr",
     "output_type": "stream",
     "text": [
      "\r 68%|██████▊   | 462/682 [00:06<00:03, 58.67it/s]"
     ]
    },
    {
     "name": "stderr",
     "output_type": "stream",
     "text": [
      "\r 69%|██████▉   | 469/682 [00:06<00:03, 57.51it/s]"
     ]
    },
    {
     "name": "stderr",
     "output_type": "stream",
     "text": [
      "\r 70%|██████▉   | 476/682 [00:07<00:03, 59.45it/s]"
     ]
    },
    {
     "name": "stderr",
     "output_type": "stream",
     "text": [
      "\r 71%|███████   | 483/682 [00:07<00:03, 60.65it/s]"
     ]
    },
    {
     "name": "stderr",
     "output_type": "stream",
     "text": [
      "\r 72%|███████▏  | 490/682 [00:07<00:03, 59.17it/s]"
     ]
    },
    {
     "name": "stderr",
     "output_type": "stream",
     "text": [
      "\r 73%|███████▎  | 497/682 [00:07<00:03, 60.71it/s]"
     ]
    },
    {
     "name": "stderr",
     "output_type": "stream",
     "text": [
      "\r 74%|███████▍  | 505/682 [00:07<00:02, 63.74it/s]"
     ]
    },
    {
     "name": "stderr",
     "output_type": "stream",
     "text": [
      "\r 75%|███████▌  | 513/682 [00:07<00:02, 65.79it/s]"
     ]
    },
    {
     "name": "stderr",
     "output_type": "stream",
     "text": [
      "\r 76%|███████▌  | 520/682 [00:07<00:02, 64.79it/s]"
     ]
    },
    {
     "name": "stderr",
     "output_type": "stream",
     "text": [
      "\r 77%|███████▋  | 527/682 [00:07<00:02, 64.82it/s]"
     ]
    },
    {
     "name": "stderr",
     "output_type": "stream",
     "text": [
      "\r 78%|███████▊  | 534/682 [00:08<00:02, 63.35it/s]"
     ]
    },
    {
     "name": "stderr",
     "output_type": "stream",
     "text": [
      "\r 79%|███████▉  | 541/682 [00:08<00:02, 65.20it/s]"
     ]
    },
    {
     "name": "stderr",
     "output_type": "stream",
     "text": [
      "\r 80%|████████  | 549/682 [00:08<00:01, 68.01it/s]"
     ]
    },
    {
     "name": "stderr",
     "output_type": "stream",
     "text": [
      "\r 82%|████████▏ | 556/682 [00:08<00:01, 66.17it/s]"
     ]
    },
    {
     "name": "stderr",
     "output_type": "stream",
     "text": [
      "\r 83%|████████▎ | 563/682 [00:08<00:02, 53.04it/s]"
     ]
    },
    {
     "name": "stderr",
     "output_type": "stream",
     "text": [
      "\r 83%|████████▎ | 569/682 [00:08<00:02, 49.52it/s]"
     ]
    },
    {
     "name": "stderr",
     "output_type": "stream",
     "text": [
      "\r 84%|████████▍ | 575/682 [00:08<00:02, 47.54it/s]"
     ]
    },
    {
     "name": "stderr",
     "output_type": "stream",
     "text": [
      "\r 85%|████████▌ | 581/682 [00:08<00:02, 49.16it/s]"
     ]
    },
    {
     "name": "stderr",
     "output_type": "stream",
     "text": [
      "\r 86%|████████▌ | 587/682 [00:09<00:01, 51.87it/s]"
     ]
    },
    {
     "name": "stderr",
     "output_type": "stream",
     "text": [
      "\r 87%|████████▋ | 594/682 [00:09<00:01, 54.21it/s]"
     ]
    },
    {
     "name": "stderr",
     "output_type": "stream",
     "text": [
      "\r 88%|████████▊ | 600/682 [00:09<00:01, 55.72it/s]"
     ]
    },
    {
     "name": "stderr",
     "output_type": "stream",
     "text": [
      "\r 89%|████████▉ | 607/682 [00:09<00:01, 57.33it/s]"
     ]
    },
    {
     "name": "stderr",
     "output_type": "stream",
     "text": [
      "\r 90%|████████▉ | 613/682 [00:09<00:01, 57.83it/s]"
     ]
    },
    {
     "name": "stderr",
     "output_type": "stream",
     "text": [
      "\r 91%|█████████ | 619/682 [00:09<00:01, 58.42it/s]"
     ]
    },
    {
     "name": "stderr",
     "output_type": "stream",
     "text": [
      "\r 92%|█████████▏| 626/682 [00:09<00:00, 59.83it/s]"
     ]
    },
    {
     "name": "stderr",
     "output_type": "stream",
     "text": [
      "\r 93%|█████████▎| 633/682 [00:09<00:00, 52.08it/s]"
     ]
    },
    {
     "name": "stderr",
     "output_type": "stream",
     "text": [
      "\r 94%|█████████▎| 639/682 [00:09<00:00, 52.96it/s]"
     ]
    },
    {
     "name": "stderr",
     "output_type": "stream",
     "text": [
      "\r 95%|█████████▍| 645/682 [00:10<00:00, 50.16it/s]"
     ]
    },
    {
     "name": "stderr",
     "output_type": "stream",
     "text": [
      "\r 95%|█████████▌| 651/682 [00:10<00:00, 52.48it/s]"
     ]
    },
    {
     "name": "stderr",
     "output_type": "stream",
     "text": [
      "\r 96%|█████████▋| 658/682 [00:10<00:00, 56.00it/s]"
     ]
    },
    {
     "name": "stderr",
     "output_type": "stream",
     "text": [
      "\r 98%|█████████▊| 666/682 [00:10<00:00, 59.80it/s]"
     ]
    },
    {
     "name": "stderr",
     "output_type": "stream",
     "text": [
      "\r 99%|█████████▉| 674/682 [00:10<00:00, 62.83it/s]"
     ]
    },
    {
     "name": "stderr",
     "output_type": "stream",
     "text": [
      "\r100%|█████████▉| 681/682 [00:10<00:00, 64.30it/s]"
     ]
    },
    {
     "name": "stderr",
     "output_type": "stream",
     "text": [
      "\n"
     ]
    },
    {
     "name": "stdout",
     "output_type": "stream",
     "text": [
      "[MoviePy] Done.\n"
     ]
    },
    {
     "name": "stdout",
     "output_type": "stream",
     "text": [
      "[MoviePy] >>>> Video ready: ./output/videos/002 - Solid Yellow Left.mp4 \n\n"
     ]
    },
    {
     "name": "stdout",
     "output_type": "stream",
     "text": [
      "CPU times: user 11.2 s, sys: 2.01 s, total: 13.2 s\nWall time: 11 s\n--------\n\nProcessing 003 - Challenge.mp4:\n"
     ]
    },
    {
     "name": "stdout",
     "output_type": "stream",
     "text": [
      "[MoviePy] >>>> Building video ./output/videos/003 - Challenge.mp4\n"
     ]
    },
    {
     "name": "stdout",
     "output_type": "stream",
     "text": [
      "[MoviePy] Writing video ./output/videos/003 - Challenge.mp4\n"
     ]
    },
    {
     "name": "stderr",
     "output_type": "stream",
     "text": [
      "\r  0%|          | 0/251 [00:00<?, ?it/s]"
     ]
    },
    {
     "name": "stderr",
     "output_type": "stream",
     "text": [
      "\r  2%|▏         | 5/251 [00:00<00:05, 46.40it/s]"
     ]
    },
    {
     "name": "stderr",
     "output_type": "stream",
     "text": [
      "\r  4%|▍         | 11/251 [00:00<00:05, 47.28it/s]"
     ]
    },
    {
     "name": "stderr",
     "output_type": "stream",
     "text": [
      "\r  6%|▋         | 16/251 [00:00<00:04, 47.95it/s]"
     ]
    },
    {
     "name": "stderr",
     "output_type": "stream",
     "text": [
      "\r  9%|▉         | 22/251 [00:00<00:04, 49.46it/s]"
     ]
    },
    {
     "name": "stderr",
     "output_type": "stream",
     "text": [
      "\r 11%|█         | 28/251 [00:00<00:04, 50.57it/s]"
     ]
    },
    {
     "name": "stderr",
     "output_type": "stream",
     "text": [
      "\r 14%|█▎        | 34/251 [00:00<00:04, 51.59it/s]"
     ]
    },
    {
     "name": "stderr",
     "output_type": "stream",
     "text": [
      "\r 16%|█▌        | 40/251 [00:00<00:04, 52.24it/s]"
     ]
    },
    {
     "name": "stderr",
     "output_type": "stream",
     "text": [
      "\r 18%|█▊        | 45/251 [00:00<00:04, 50.31it/s]"
     ]
    },
    {
     "name": "stderr",
     "output_type": "stream",
     "text": [
      "\r 20%|█▉        | 50/251 [00:01<00:04, 41.86it/s]"
     ]
    },
    {
     "name": "stderr",
     "output_type": "stream",
     "text": [
      "\r 22%|██▏       | 55/251 [00:01<00:05, 32.69it/s]"
     ]
    },
    {
     "name": "stderr",
     "output_type": "stream",
     "text": [
      "\r 24%|██▎       | 59/251 [00:01<00:06, 30.32it/s]"
     ]
    },
    {
     "name": "stderr",
     "output_type": "stream",
     "text": [
      "\r 25%|██▌       | 63/251 [00:01<00:06, 29.14it/s]"
     ]
    },
    {
     "name": "stderr",
     "output_type": "stream",
     "text": [
      "\r 27%|██▋       | 67/251 [00:01<00:06, 28.49it/s]"
     ]
    },
    {
     "name": "stderr",
     "output_type": "stream",
     "text": [
      "\r 28%|██▊       | 70/251 [00:01<00:07, 25.49it/s]"
     ]
    },
    {
     "name": "stderr",
     "output_type": "stream",
     "text": [
      "\r 29%|██▉       | 74/251 [00:01<00:06, 28.04it/s]"
     ]
    },
    {
     "name": "stderr",
     "output_type": "stream",
     "text": [
      "\r 31%|███       | 78/251 [00:02<00:05, 29.99it/s]"
     ]
    },
    {
     "name": "stderr",
     "output_type": "stream",
     "text": [
      "\r 33%|███▎      | 82/251 [00:02<00:05, 29.67it/s]"
     ]
    },
    {
     "name": "stderr",
     "output_type": "stream",
     "text": [
      "\r 34%|███▍      | 86/251 [00:02<00:06, 27.03it/s]"
     ]
    },
    {
     "name": "stderr",
     "output_type": "stream",
     "text": [
      "\r 35%|███▌      | 89/251 [00:02<00:06, 25.18it/s]"
     ]
    },
    {
     "name": "stderr",
     "output_type": "stream",
     "text": [
      "\r 37%|███▋      | 93/251 [00:02<00:05, 27.58it/s]"
     ]
    },
    {
     "name": "stderr",
     "output_type": "stream",
     "text": [
      "\r 39%|███▊      | 97/251 [00:02<00:05, 29.67it/s]"
     ]
    },
    {
     "name": "stderr",
     "output_type": "stream",
     "text": [
      "\r 40%|████      | 101/251 [00:02<00:04, 30.98it/s]"
     ]
    },
    {
     "name": "stderr",
     "output_type": "stream",
     "text": [
      "\r 42%|████▏     | 105/251 [00:03<00:04, 32.30it/s]"
     ]
    },
    {
     "name": "stderr",
     "output_type": "stream",
     "text": [
      "\r 43%|████▎     | 109/251 [00:03<00:04, 33.00it/s]"
     ]
    },
    {
     "name": "stderr",
     "output_type": "stream",
     "text": [
      "\r 45%|████▌     | 113/251 [00:03<00:04, 34.03it/s]"
     ]
    },
    {
     "name": "stderr",
     "output_type": "stream",
     "text": [
      "\r 47%|████▋     | 117/251 [00:03<00:03, 33.97it/s]"
     ]
    },
    {
     "name": "stderr",
     "output_type": "stream",
     "text": [
      "\r 48%|████▊     | 121/251 [00:03<00:04, 31.16it/s]"
     ]
    },
    {
     "name": "stderr",
     "output_type": "stream",
     "text": [
      "\r 50%|████▉     | 125/251 [00:03<00:03, 32.18it/s]"
     ]
    },
    {
     "name": "stderr",
     "output_type": "stream",
     "text": [
      "\r 51%|█████▏    | 129/251 [00:03<00:03, 32.17it/s]"
     ]
    },
    {
     "name": "stderr",
     "output_type": "stream",
     "text": [
      "\r 53%|█████▎    | 133/251 [00:03<00:03, 31.81it/s]"
     ]
    },
    {
     "name": "stderr",
     "output_type": "stream",
     "text": [
      "\r 55%|█████▍    | 137/251 [00:03<00:03, 32.34it/s]"
     ]
    },
    {
     "name": "stderr",
     "output_type": "stream",
     "text": [
      "\r 56%|█████▌    | 141/251 [00:04<00:03, 30.69it/s]"
     ]
    },
    {
     "name": "stderr",
     "output_type": "stream",
     "text": [
      "\r 58%|█████▊    | 145/251 [00:04<00:03, 31.78it/s]"
     ]
    },
    {
     "name": "stderr",
     "output_type": "stream",
     "text": [
      "\r 59%|█████▉    | 149/251 [00:04<00:04, 24.96it/s]"
     ]
    },
    {
     "name": "stderr",
     "output_type": "stream",
     "text": [
      "\r 61%|██████    | 153/251 [00:04<00:03, 25.78it/s]"
     ]
    },
    {
     "name": "stderr",
     "output_type": "stream",
     "text": [
      "\r 62%|██████▏   | 156/251 [00:04<00:03, 26.81it/s]"
     ]
    },
    {
     "name": "stderr",
     "output_type": "stream",
     "text": [
      "\r 64%|██████▎   | 160/251 [00:04<00:03, 27.44it/s]"
     ]
    },
    {
     "name": "stderr",
     "output_type": "stream",
     "text": [
      "\r 65%|██████▌   | 164/251 [00:05<00:03, 28.18it/s]"
     ]
    },
    {
     "name": "stderr",
     "output_type": "stream",
     "text": [
      "\r 67%|██████▋   | 168/251 [00:05<00:02, 29.31it/s]"
     ]
    },
    {
     "name": "stderr",
     "output_type": "stream",
     "text": [
      "\r 69%|██████▊   | 172/251 [00:05<00:02, 29.90it/s]"
     ]
    },
    {
     "name": "stderr",
     "output_type": "stream",
     "text": [
      "\r 70%|███████   | 176/251 [00:05<00:02, 29.61it/s]"
     ]
    },
    {
     "name": "stderr",
     "output_type": "stream",
     "text": [
      "\r 71%|███████▏  | 179/251 [00:05<00:02, 26.34it/s]"
     ]
    },
    {
     "name": "stderr",
     "output_type": "stream",
     "text": [
      "\r 73%|███████▎  | 183/251 [00:05<00:02, 27.70it/s]"
     ]
    },
    {
     "name": "stderr",
     "output_type": "stream",
     "text": [
      "\r 74%|███████▍  | 186/251 [00:05<00:02, 27.53it/s]"
     ]
    },
    {
     "name": "stderr",
     "output_type": "stream",
     "text": [
      "\r 76%|███████▌  | 190/251 [00:05<00:02, 28.62it/s]"
     ]
    },
    {
     "name": "stderr",
     "output_type": "stream",
     "text": [
      "\r 77%|███████▋  | 194/251 [00:06<00:01, 29.01it/s]"
     ]
    },
    {
     "name": "stderr",
     "output_type": "stream",
     "text": [
      "\r 79%|███████▉  | 198/251 [00:06<00:01, 29.89it/s]"
     ]
    },
    {
     "name": "stderr",
     "output_type": "stream",
     "text": [
      "\r 80%|████████  | 202/251 [00:06<00:01, 29.77it/s]"
     ]
    },
    {
     "name": "stderr",
     "output_type": "stream",
     "text": [
      "\r 82%|████████▏ | 206/251 [00:06<00:01, 31.08it/s]"
     ]
    },
    {
     "name": "stderr",
     "output_type": "stream",
     "text": [
      "\r 84%|████████▎ | 210/251 [00:06<00:01, 30.52it/s]"
     ]
    },
    {
     "name": "stderr",
     "output_type": "stream",
     "text": [
      "\r 85%|████████▌ | 214/251 [00:06<00:01, 31.85it/s]"
     ]
    },
    {
     "name": "stderr",
     "output_type": "stream",
     "text": [
      "\r 87%|████████▋ | 218/251 [00:06<00:01, 32.02it/s]"
     ]
    },
    {
     "name": "stderr",
     "output_type": "stream",
     "text": [
      "\r 88%|████████▊ | 222/251 [00:06<00:00, 33.60it/s]"
     ]
    },
    {
     "name": "stderr",
     "output_type": "stream",
     "text": [
      "\r 90%|█████████ | 226/251 [00:07<00:00, 33.97it/s]"
     ]
    },
    {
     "name": "stderr",
     "output_type": "stream",
     "text": [
      "\r 92%|█████████▏| 230/251 [00:07<00:00, 33.81it/s]"
     ]
    },
    {
     "name": "stderr",
     "output_type": "stream",
     "text": [
      "\r 93%|█████████▎| 234/251 [00:07<00:00, 34.01it/s]"
     ]
    },
    {
     "name": "stderr",
     "output_type": "stream",
     "text": [
      "\r 95%|█████████▍| 238/251 [00:07<00:00, 33.84it/s]"
     ]
    },
    {
     "name": "stderr",
     "output_type": "stream",
     "text": [
      "\r 96%|█████████▋| 242/251 [00:07<00:00, 30.70it/s]"
     ]
    },
    {
     "name": "stderr",
     "output_type": "stream",
     "text": [
      "\r 98%|█████████▊| 246/251 [00:07<00:00, 32.08it/s]"
     ]
    },
    {
     "name": "stderr",
     "output_type": "stream",
     "text": [
      "\r100%|█████████▉| 250/251 [00:07<00:00, 33.87it/s]"
     ]
    },
    {
     "name": "stderr",
     "output_type": "stream",
     "text": [
      "\r100%|██████████| 251/251 [00:07<00:00, 32.35it/s]"
     ]
    },
    {
     "name": "stderr",
     "output_type": "stream",
     "text": [
      "\n"
     ]
    },
    {
     "name": "stdout",
     "output_type": "stream",
     "text": [
      "[MoviePy] Done.\n"
     ]
    },
    {
     "name": "stdout",
     "output_type": "stream",
     "text": [
      "[MoviePy] >>>> Video ready: ./output/videos/003 - Challenge.mp4 \n\n"
     ]
    },
    {
     "name": "stdout",
     "output_type": "stream",
     "text": [
      "CPU times: user 7.36 s, sys: 1.49 s, total: 8.85 s\nWall time: 8.62 s\n--------\n\nProcessing 004 - Advanced Project.mp4:\n"
     ]
    },
    {
     "name": "stdout",
     "output_type": "stream",
     "text": [
      "[MoviePy] >>>> Building video ./output/videos/004 - Advanced Project.mp4\n"
     ]
    },
    {
     "name": "stdout",
     "output_type": "stream",
     "text": [
      "[MoviePy] Writing video ./output/videos/004 - Advanced Project.mp4\n"
     ]
    },
    {
     "name": "stderr",
     "output_type": "stream",
     "text": [
      "\r  0%|          | 0/1261 [00:00<?, ?it/s]"
     ]
    },
    {
     "name": "stderr",
     "output_type": "stream",
     "text": [
      "\r  0%|          | 5/1261 [00:00<00:28, 44.23it/s]"
     ]
    },
    {
     "name": "stderr",
     "output_type": "stream",
     "text": [
      "\r  1%|          | 10/1261 [00:00<00:27, 45.08it/s]"
     ]
    },
    {
     "name": "stderr",
     "output_type": "stream",
     "text": [
      "\r  1%|          | 15/1261 [00:00<00:26, 46.43it/s]"
     ]
    },
    {
     "name": "stderr",
     "output_type": "stream",
     "text": [
      "\r  2%|▏         | 21/1261 [00:00<00:25, 47.83it/s]"
     ]
    },
    {
     "name": "stderr",
     "output_type": "stream",
     "text": [
      "\r  2%|▏         | 27/1261 [00:00<00:25, 48.61it/s]"
     ]
    },
    {
     "name": "stderr",
     "output_type": "stream",
     "text": [
      "\r  3%|▎         | 33/1261 [00:00<00:25, 49.04it/s]"
     ]
    },
    {
     "name": "stderr",
     "output_type": "stream",
     "text": [
      "\r  3%|▎         | 39/1261 [00:00<00:24, 49.51it/s]"
     ]
    },
    {
     "name": "stderr",
     "output_type": "stream",
     "text": [
      "\r  3%|▎         | 44/1261 [00:00<00:24, 49.14it/s]"
     ]
    },
    {
     "name": "stderr",
     "output_type": "stream",
     "text": [
      "\r  4%|▍         | 49/1261 [00:01<00:27, 43.74it/s]"
     ]
    },
    {
     "name": "stderr",
     "output_type": "stream",
     "text": [
      "\r  4%|▍         | 54/1261 [00:01<00:27, 43.17it/s]"
     ]
    },
    {
     "name": "stderr",
     "output_type": "stream",
     "text": [
      "\r  5%|▍         | 59/1261 [00:01<00:28, 42.84it/s]"
     ]
    },
    {
     "name": "stderr",
     "output_type": "stream",
     "text": [
      "\r  5%|▌         | 64/1261 [00:01<00:27, 42.79it/s]"
     ]
    },
    {
     "name": "stderr",
     "output_type": "stream",
     "text": [
      "\r  5%|▌         | 69/1261 [00:01<00:28, 41.27it/s]"
     ]
    },
    {
     "name": "stderr",
     "output_type": "stream",
     "text": [
      "\r  6%|▌         | 74/1261 [00:01<00:31, 37.82it/s]"
     ]
    },
    {
     "name": "stderr",
     "output_type": "stream",
     "text": [
      "\r  6%|▌         | 78/1261 [00:01<00:31, 37.21it/s]"
     ]
    },
    {
     "name": "stderr",
     "output_type": "stream",
     "text": [
      "\r  7%|▋         | 82/1261 [00:01<00:32, 36.65it/s]"
     ]
    },
    {
     "name": "stderr",
     "output_type": "stream",
     "text": [
      "\r  7%|▋         | 87/1261 [00:02<00:31, 37.52it/s]"
     ]
    },
    {
     "name": "stderr",
     "output_type": "stream",
     "text": [
      "\r  7%|▋         | 92/1261 [00:02<00:30, 38.15it/s]"
     ]
    },
    {
     "name": "stderr",
     "output_type": "stream",
     "text": [
      "\r  8%|▊         | 97/1261 [00:02<00:29, 38.91it/s]"
     ]
    },
    {
     "name": "stderr",
     "output_type": "stream",
     "text": [
      "\r  8%|▊         | 102/1261 [00:02<00:29, 39.88it/s]"
     ]
    },
    {
     "name": "stderr",
     "output_type": "stream",
     "text": [
      "\r  8%|▊         | 107/1261 [00:02<00:28, 40.48it/s]"
     ]
    },
    {
     "name": "stderr",
     "output_type": "stream",
     "text": [
      "\r  9%|▉         | 112/1261 [00:02<00:29, 38.64it/s]"
     ]
    },
    {
     "name": "stderr",
     "output_type": "stream",
     "text": [
      "\r  9%|▉         | 116/1261 [00:02<00:31, 36.35it/s]"
     ]
    },
    {
     "name": "stderr",
     "output_type": "stream",
     "text": [
      "\r 10%|▉         | 121/1261 [00:02<00:30, 37.98it/s]"
     ]
    },
    {
     "name": "stderr",
     "output_type": "stream",
     "text": [
      "\r 10%|▉         | 126/1261 [00:03<00:29, 38.61it/s]"
     ]
    },
    {
     "name": "stderr",
     "output_type": "stream",
     "text": [
      "\r 10%|█         | 131/1261 [00:03<00:28, 39.39it/s]"
     ]
    },
    {
     "name": "stderr",
     "output_type": "stream",
     "text": [
      "\r 11%|█         | 136/1261 [00:03<00:27, 40.20it/s]"
     ]
    },
    {
     "name": "stderr",
     "output_type": "stream",
     "text": [
      "\r 11%|█         | 141/1261 [00:03<00:27, 40.45it/s]"
     ]
    },
    {
     "name": "stderr",
     "output_type": "stream",
     "text": [
      "\r 12%|█▏        | 146/1261 [00:03<00:27, 41.04it/s]"
     ]
    },
    {
     "name": "stderr",
     "output_type": "stream",
     "text": [
      "\r 12%|█▏        | 151/1261 [00:03<00:28, 39.18it/s]"
     ]
    },
    {
     "name": "stderr",
     "output_type": "stream",
     "text": [
      "\r 12%|█▏        | 156/1261 [00:03<00:27, 40.40it/s]"
     ]
    },
    {
     "name": "stderr",
     "output_type": "stream",
     "text": [
      "\r 13%|█▎        | 161/1261 [00:03<00:27, 40.45it/s]"
     ]
    },
    {
     "name": "stderr",
     "output_type": "stream",
     "text": [
      "\r 13%|█▎        | 166/1261 [00:04<00:27, 40.03it/s]"
     ]
    },
    {
     "name": "stderr",
     "output_type": "stream",
     "text": [
      "\r 14%|█▎        | 171/1261 [00:04<00:27, 39.93it/s]"
     ]
    },
    {
     "name": "stderr",
     "output_type": "stream",
     "text": [
      "\r 14%|█▍        | 176/1261 [00:04<00:27, 39.40it/s]"
     ]
    },
    {
     "name": "stderr",
     "output_type": "stream",
     "text": [
      "\r 14%|█▍        | 180/1261 [00:04<00:27, 39.13it/s]"
     ]
    },
    {
     "name": "stderr",
     "output_type": "stream",
     "text": [
      "\r 15%|█▍        | 185/1261 [00:04<00:26, 40.08it/s]"
     ]
    },
    {
     "name": "stderr",
     "output_type": "stream",
     "text": [
      "\r 15%|█▌        | 190/1261 [00:04<00:28, 37.56it/s]"
     ]
    },
    {
     "name": "stderr",
     "output_type": "stream",
     "text": [
      "\r 15%|█▌        | 194/1261 [00:04<00:28, 37.99it/s]"
     ]
    },
    {
     "name": "stderr",
     "output_type": "stream",
     "text": [
      "\r 16%|█▌        | 198/1261 [00:04<00:27, 38.30it/s]"
     ]
    },
    {
     "name": "stderr",
     "output_type": "stream",
     "text": [
      "\r 16%|█▌        | 202/1261 [00:04<00:27, 37.96it/s]"
     ]
    },
    {
     "name": "stderr",
     "output_type": "stream",
     "text": [
      "\r 16%|█▋        | 207/1261 [00:05<00:26, 39.14it/s]"
     ]
    },
    {
     "name": "stderr",
     "output_type": "stream",
     "text": [
      "\r 17%|█▋        | 212/1261 [00:05<00:27, 38.70it/s]"
     ]
    },
    {
     "name": "stderr",
     "output_type": "stream",
     "text": [
      "\r 17%|█▋        | 216/1261 [00:05<00:30, 34.69it/s]"
     ]
    },
    {
     "name": "stderr",
     "output_type": "stream",
     "text": [
      "\r 17%|█▋        | 220/1261 [00:05<00:29, 35.49it/s]"
     ]
    },
    {
     "name": "stderr",
     "output_type": "stream",
     "text": [
      "\r 18%|█▊        | 224/1261 [00:05<00:29, 35.68it/s]"
     ]
    },
    {
     "name": "stderr",
     "output_type": "stream",
     "text": [
      "\r 18%|█▊        | 228/1261 [00:05<00:30, 33.54it/s]"
     ]
    },
    {
     "name": "stderr",
     "output_type": "stream",
     "text": [
      "\r 18%|█▊        | 232/1261 [00:05<00:30, 34.10it/s]"
     ]
    },
    {
     "name": "stderr",
     "output_type": "stream",
     "text": [
      "\r 19%|█▊        | 236/1261 [00:05<00:29, 34.53it/s]"
     ]
    },
    {
     "name": "stderr",
     "output_type": "stream",
     "text": [
      "\r 19%|█▉        | 241/1261 [00:06<00:27, 36.54it/s]"
     ]
    },
    {
     "name": "stderr",
     "output_type": "stream",
     "text": [
      "\r 20%|█▉        | 246/1261 [00:06<00:26, 38.13it/s]"
     ]
    },
    {
     "name": "stderr",
     "output_type": "stream",
     "text": [
      "\r 20%|█▉        | 250/1261 [00:06<00:26, 38.66it/s]"
     ]
    },
    {
     "name": "stderr",
     "output_type": "stream",
     "text": [
      "\r 20%|██        | 255/1261 [00:06<00:25, 39.75it/s]"
     ]
    },
    {
     "name": "stderr",
     "output_type": "stream",
     "text": [
      "\r 21%|██        | 260/1261 [00:06<00:24, 40.60it/s]"
     ]
    },
    {
     "name": "stderr",
     "output_type": "stream",
     "text": [
      "\r 21%|██        | 265/1261 [00:06<00:25, 38.46it/s]"
     ]
    },
    {
     "name": "stderr",
     "output_type": "stream",
     "text": [
      "\r 21%|██▏       | 270/1261 [00:06<00:25, 39.32it/s]"
     ]
    },
    {
     "name": "stderr",
     "output_type": "stream",
     "text": [
      "\r 22%|██▏       | 275/1261 [00:06<00:24, 40.11it/s]"
     ]
    },
    {
     "name": "stderr",
     "output_type": "stream",
     "text": [
      "\r 22%|██▏       | 280/1261 [00:07<00:24, 40.55it/s]"
     ]
    },
    {
     "name": "stderr",
     "output_type": "stream",
     "text": [
      "\r 23%|██▎       | 285/1261 [00:07<00:23, 41.14it/s]"
     ]
    },
    {
     "name": "stderr",
     "output_type": "stream",
     "text": [
      "\r 23%|██▎       | 290/1261 [00:07<00:24, 40.39it/s]"
     ]
    },
    {
     "name": "stderr",
     "output_type": "stream",
     "text": [
      "\r 23%|██▎       | 295/1261 [00:07<00:23, 41.22it/s]"
     ]
    },
    {
     "name": "stderr",
     "output_type": "stream",
     "text": [
      "\r 24%|██▍       | 300/1261 [00:07<00:22, 42.00it/s]"
     ]
    },
    {
     "name": "stderr",
     "output_type": "stream",
     "text": [
      "\r 24%|██▍       | 305/1261 [00:07<00:24, 39.24it/s]"
     ]
    },
    {
     "name": "stderr",
     "output_type": "stream",
     "text": [
      "\r 25%|██▍       | 310/1261 [00:07<00:23, 40.46it/s]"
     ]
    },
    {
     "name": "stderr",
     "output_type": "stream",
     "text": [
      "\r 25%|██▍       | 315/1261 [00:07<00:23, 40.89it/s]"
     ]
    },
    {
     "name": "stderr",
     "output_type": "stream",
     "text": [
      "\r 25%|██▌       | 320/1261 [00:07<00:22, 41.33it/s]"
     ]
    },
    {
     "name": "stderr",
     "output_type": "stream",
     "text": [
      "\r 26%|██▌       | 325/1261 [00:08<00:22, 41.56it/s]"
     ]
    },
    {
     "name": "stderr",
     "output_type": "stream",
     "text": [
      "\r 26%|██▌       | 330/1261 [00:08<00:22, 41.75it/s]"
     ]
    },
    {
     "name": "stderr",
     "output_type": "stream",
     "text": [
      "\r 27%|██▋       | 335/1261 [00:08<00:22, 41.68it/s]"
     ]
    },
    {
     "name": "stderr",
     "output_type": "stream",
     "text": [
      "\r 27%|██▋       | 340/1261 [00:08<00:21, 42.24it/s]"
     ]
    },
    {
     "name": "stderr",
     "output_type": "stream",
     "text": [
      "\r 27%|██▋       | 345/1261 [00:08<00:22, 41.22it/s]"
     ]
    },
    {
     "name": "stderr",
     "output_type": "stream",
     "text": [
      "\r 28%|██▊       | 350/1261 [00:08<00:23, 39.37it/s]"
     ]
    },
    {
     "name": "stderr",
     "output_type": "stream",
     "text": [
      "\r 28%|██▊       | 355/1261 [00:08<00:22, 40.37it/s]"
     ]
    },
    {
     "name": "stderr",
     "output_type": "stream",
     "text": [
      "\r 29%|██▊       | 360/1261 [00:08<00:22, 40.94it/s]"
     ]
    },
    {
     "name": "stderr",
     "output_type": "stream",
     "text": [
      "\r 29%|██▉       | 365/1261 [00:09<00:21, 40.97it/s]"
     ]
    },
    {
     "name": "stderr",
     "output_type": "stream",
     "text": [
      "\r 29%|██▉       | 370/1261 [00:09<00:21, 41.07it/s]"
     ]
    },
    {
     "name": "stderr",
     "output_type": "stream",
     "text": [
      "\r 30%|██▉       | 375/1261 [00:09<00:21, 41.40it/s]"
     ]
    },
    {
     "name": "stderr",
     "output_type": "stream",
     "text": [
      "\r 30%|███       | 380/1261 [00:09<00:20, 42.42it/s]"
     ]
    },
    {
     "name": "stderr",
     "output_type": "stream",
     "text": [
      "\r 31%|███       | 385/1261 [00:09<00:21, 41.33it/s]"
     ]
    },
    {
     "name": "stderr",
     "output_type": "stream",
     "text": [
      "\r 31%|███       | 390/1261 [00:09<00:21, 39.62it/s]"
     ]
    },
    {
     "name": "stderr",
     "output_type": "stream",
     "text": [
      "\r 31%|███▏      | 395/1261 [00:09<00:21, 40.33it/s]"
     ]
    },
    {
     "name": "stderr",
     "output_type": "stream",
     "text": [
      "\r 32%|███▏      | 400/1261 [00:09<00:21, 40.70it/s]"
     ]
    },
    {
     "name": "stderr",
     "output_type": "stream",
     "text": [
      "\r 32%|███▏      | 405/1261 [00:10<00:20, 40.96it/s]"
     ]
    },
    {
     "name": "stderr",
     "output_type": "stream",
     "text": [
      "\r 33%|███▎      | 410/1261 [00:10<00:20, 41.13it/s]"
     ]
    },
    {
     "name": "stderr",
     "output_type": "stream",
     "text": [
      "\r 33%|███▎      | 415/1261 [00:10<00:20, 41.52it/s]"
     ]
    },
    {
     "name": "stderr",
     "output_type": "stream",
     "text": [
      "\r 33%|███▎      | 420/1261 [00:10<00:20, 42.00it/s]"
     ]
    },
    {
     "name": "stderr",
     "output_type": "stream",
     "text": [
      "\r 34%|███▎      | 425/1261 [00:10<00:20, 41.50it/s]"
     ]
    },
    {
     "name": "stderr",
     "output_type": "stream",
     "text": [
      "\r 34%|███▍      | 430/1261 [00:10<00:20, 39.88it/s]"
     ]
    },
    {
     "name": "stderr",
     "output_type": "stream",
     "text": [
      "\r 34%|███▍      | 435/1261 [00:10<00:20, 40.81it/s]"
     ]
    },
    {
     "name": "stderr",
     "output_type": "stream",
     "text": [
      "\r 35%|███▍      | 440/1261 [00:10<00:19, 41.65it/s]"
     ]
    },
    {
     "name": "stderr",
     "output_type": "stream",
     "text": [
      "\r 35%|███▌      | 445/1261 [00:11<00:20, 40.66it/s]"
     ]
    },
    {
     "name": "stderr",
     "output_type": "stream",
     "text": [
      "\r 36%|███▌      | 450/1261 [00:11<00:19, 41.41it/s]"
     ]
    },
    {
     "name": "stderr",
     "output_type": "stream",
     "text": [
      "\r 36%|███▌      | 455/1261 [00:11<00:19, 41.90it/s]"
     ]
    },
    {
     "name": "stderr",
     "output_type": "stream",
     "text": [
      "\r 36%|███▋      | 460/1261 [00:11<00:18, 42.72it/s]"
     ]
    },
    {
     "name": "stderr",
     "output_type": "stream",
     "text": [
      "\r 37%|███▋      | 465/1261 [00:11<00:18, 42.53it/s]"
     ]
    },
    {
     "name": "stderr",
     "output_type": "stream",
     "text": [
      "\r 37%|███▋      | 470/1261 [00:11<00:19, 40.67it/s]"
     ]
    },
    {
     "name": "stderr",
     "output_type": "stream",
     "text": [
      "\r 38%|███▊      | 475/1261 [00:11<00:19, 41.13it/s]"
     ]
    },
    {
     "name": "stderr",
     "output_type": "stream",
     "text": [
      "\r 38%|███▊      | 480/1261 [00:11<00:18, 41.58it/s]"
     ]
    },
    {
     "name": "stderr",
     "output_type": "stream",
     "text": [
      "\r 38%|███▊      | 485/1261 [00:11<00:18, 42.17it/s]"
     ]
    },
    {
     "name": "stderr",
     "output_type": "stream",
     "text": [
      "\r 39%|███▉      | 490/1261 [00:12<00:18, 41.99it/s]"
     ]
    },
    {
     "name": "stderr",
     "output_type": "stream",
     "text": [
      "\r 39%|███▉      | 495/1261 [00:12<00:18, 41.27it/s]"
     ]
    },
    {
     "name": "stderr",
     "output_type": "stream",
     "text": [
      "\r 40%|███▉      | 500/1261 [00:12<00:18, 41.92it/s]"
     ]
    },
    {
     "name": "stderr",
     "output_type": "stream",
     "text": [
      "\r 40%|████      | 505/1261 [00:12<00:18, 41.74it/s]"
     ]
    },
    {
     "name": "stderr",
     "output_type": "stream",
     "text": [
      "\r 40%|████      | 510/1261 [00:12<00:17, 41.95it/s]"
     ]
    },
    {
     "name": "stderr",
     "output_type": "stream",
     "text": [
      "\r 41%|████      | 515/1261 [00:12<00:18, 39.27it/s]"
     ]
    },
    {
     "name": "stderr",
     "output_type": "stream",
     "text": [
      "\r 41%|████      | 520/1261 [00:12<00:18, 39.99it/s]"
     ]
    },
    {
     "name": "stderr",
     "output_type": "stream",
     "text": [
      "\r 42%|████▏     | 525/1261 [00:12<00:17, 40.93it/s]"
     ]
    },
    {
     "name": "stderr",
     "output_type": "stream",
     "text": [
      "\r 42%|████▏     | 530/1261 [00:13<00:18, 40.08it/s]"
     ]
    },
    {
     "name": "stderr",
     "output_type": "stream",
     "text": [
      "\r 42%|████▏     | 535/1261 [00:13<00:17, 40.39it/s]"
     ]
    },
    {
     "name": "stderr",
     "output_type": "stream",
     "text": [
      "\r 43%|████▎     | 540/1261 [00:13<00:17, 40.68it/s]"
     ]
    },
    {
     "name": "stderr",
     "output_type": "stream",
     "text": [
      "\r 43%|████▎     | 545/1261 [00:13<00:17, 40.57it/s]"
     ]
    },
    {
     "name": "stderr",
     "output_type": "stream",
     "text": [
      "\r 44%|████▎     | 550/1261 [00:13<00:18, 39.18it/s]"
     ]
    },
    {
     "name": "stderr",
     "output_type": "stream",
     "text": [
      "\r 44%|████▍     | 554/1261 [00:13<00:20, 35.13it/s]"
     ]
    },
    {
     "name": "stderr",
     "output_type": "stream",
     "text": [
      "\r 44%|████▍     | 558/1261 [00:13<00:20, 34.68it/s]"
     ]
    },
    {
     "name": "stderr",
     "output_type": "stream",
     "text": [
      "\r 45%|████▍     | 562/1261 [00:13<00:20, 34.27it/s]"
     ]
    },
    {
     "name": "stderr",
     "output_type": "stream",
     "text": [
      "\r 45%|████▍     | 566/1261 [00:14<00:19, 35.11it/s]"
     ]
    },
    {
     "name": "stderr",
     "output_type": "stream",
     "text": [
      "\r 45%|████▌     | 570/1261 [00:14<00:19, 35.69it/s]"
     ]
    },
    {
     "name": "stderr",
     "output_type": "stream",
     "text": [
      "\r 46%|████▌     | 574/1261 [00:14<00:19, 34.44it/s]"
     ]
    },
    {
     "name": "stderr",
     "output_type": "stream",
     "text": [
      "\r 46%|████▌     | 578/1261 [00:14<00:20, 32.85it/s]"
     ]
    },
    {
     "name": "stderr",
     "output_type": "stream",
     "text": [
      "\r 46%|████▌     | 582/1261 [00:14<00:21, 31.99it/s]"
     ]
    },
    {
     "name": "stderr",
     "output_type": "stream",
     "text": [
      "\r 46%|████▋     | 586/1261 [00:14<00:23, 28.48it/s]"
     ]
    },
    {
     "name": "stderr",
     "output_type": "stream",
     "text": [
      "\r 47%|████▋     | 590/1261 [00:14<00:21, 30.69it/s]"
     ]
    },
    {
     "name": "stderr",
     "output_type": "stream",
     "text": [
      "\r 47%|████▋     | 594/1261 [00:14<00:20, 32.19it/s]"
     ]
    },
    {
     "name": "stderr",
     "output_type": "stream",
     "text": [
      "\r 47%|████▋     | 598/1261 [00:15<00:19, 33.96it/s]"
     ]
    },
    {
     "name": "stderr",
     "output_type": "stream",
     "text": [
      "\r 48%|████▊     | 602/1261 [00:15<00:18, 34.94it/s]"
     ]
    },
    {
     "name": "stderr",
     "output_type": "stream",
     "text": [
      "\r 48%|████▊     | 606/1261 [00:15<00:18, 35.56it/s]"
     ]
    },
    {
     "name": "stderr",
     "output_type": "stream",
     "text": [
      "\r 48%|████▊     | 610/1261 [00:15<00:18, 35.89it/s]"
     ]
    },
    {
     "name": "stderr",
     "output_type": "stream",
     "text": [
      "\r 49%|████▊     | 614/1261 [00:15<00:18, 35.06it/s]"
     ]
    },
    {
     "name": "stderr",
     "output_type": "stream",
     "text": [
      "\r 49%|████▉     | 618/1261 [00:15<00:20, 30.86it/s]"
     ]
    },
    {
     "name": "stderr",
     "output_type": "stream",
     "text": [
      "\r 49%|████▉     | 622/1261 [00:15<00:19, 32.18it/s]"
     ]
    },
    {
     "name": "stderr",
     "output_type": "stream",
     "text": [
      "\r 50%|████▉     | 626/1261 [00:15<00:18, 33.63it/s]"
     ]
    },
    {
     "name": "stderr",
     "output_type": "stream",
     "text": [
      "\r 50%|████▉     | 630/1261 [00:16<00:18, 34.73it/s]"
     ]
    },
    {
     "name": "stderr",
     "output_type": "stream",
     "text": [
      "\r 50%|█████     | 634/1261 [00:16<00:18, 33.13it/s]"
     ]
    },
    {
     "name": "stderr",
     "output_type": "stream",
     "text": [
      "\r 51%|█████     | 638/1261 [00:16<00:18, 33.74it/s]"
     ]
    },
    {
     "name": "stderr",
     "output_type": "stream",
     "text": [
      "\r 51%|█████     | 642/1261 [00:16<00:17, 35.11it/s]"
     ]
    },
    {
     "name": "stderr",
     "output_type": "stream",
     "text": [
      "\r 51%|█████     | 646/1261 [00:16<00:17, 35.97it/s]"
     ]
    },
    {
     "name": "stderr",
     "output_type": "stream",
     "text": [
      "\r 52%|█████▏    | 650/1261 [00:16<00:16, 36.34it/s]"
     ]
    },
    {
     "name": "stderr",
     "output_type": "stream",
     "text": [
      "\r 52%|█████▏    | 654/1261 [00:16<00:17, 34.00it/s]"
     ]
    },
    {
     "name": "stderr",
     "output_type": "stream",
     "text": [
      "\r 52%|█████▏    | 659/1261 [00:16<00:16, 35.54it/s]"
     ]
    },
    {
     "name": "stderr",
     "output_type": "stream",
     "text": [
      "\r 53%|█████▎    | 663/1261 [00:16<00:16, 35.71it/s]"
     ]
    },
    {
     "name": "stderr",
     "output_type": "stream",
     "text": [
      "\r 53%|█████▎    | 668/1261 [00:17<00:16, 36.96it/s]"
     ]
    },
    {
     "name": "stderr",
     "output_type": "stream",
     "text": [
      "\r 53%|█████▎    | 672/1261 [00:17<00:15, 37.54it/s]"
     ]
    },
    {
     "name": "stderr",
     "output_type": "stream",
     "text": [
      "\r 54%|█████▎    | 676/1261 [00:17<00:15, 37.59it/s]"
     ]
    },
    {
     "name": "stderr",
     "output_type": "stream",
     "text": [
      "\r 54%|█████▍    | 681/1261 [00:17<00:15, 38.01it/s]"
     ]
    },
    {
     "name": "stderr",
     "output_type": "stream",
     "text": [
      "\r 54%|█████▍    | 685/1261 [00:17<00:15, 37.66it/s]"
     ]
    },
    {
     "name": "stderr",
     "output_type": "stream",
     "text": [
      "\r 55%|█████▍    | 689/1261 [00:17<00:17, 33.36it/s]"
     ]
    },
    {
     "name": "stderr",
     "output_type": "stream",
     "text": [
      "\r 55%|█████▌    | 694/1261 [00:17<00:16, 34.91it/s]"
     ]
    },
    {
     "name": "stderr",
     "output_type": "stream",
     "text": [
      "\r 55%|█████▌    | 698/1261 [00:17<00:15, 36.18it/s]"
     ]
    },
    {
     "name": "stderr",
     "output_type": "stream",
     "text": [
      "\r 56%|█████▌    | 703/1261 [00:18<00:14, 37.84it/s]"
     ]
    },
    {
     "name": "stderr",
     "output_type": "stream",
     "text": [
      "\r 56%|█████▌    | 707/1261 [00:18<00:14, 37.77it/s]"
     ]
    },
    {
     "name": "stderr",
     "output_type": "stream",
     "text": [
      "\r 56%|█████▋    | 712/1261 [00:18<00:14, 38.57it/s]"
     ]
    },
    {
     "name": "stderr",
     "output_type": "stream",
     "text": [
      "\r 57%|█████▋    | 717/1261 [00:18<00:13, 40.05it/s]"
     ]
    },
    {
     "name": "stderr",
     "output_type": "stream",
     "text": [
      "\r 57%|█████▋    | 722/1261 [00:18<00:13, 40.26it/s]"
     ]
    },
    {
     "name": "stderr",
     "output_type": "stream",
     "text": [
      "\r 58%|█████▊    | 727/1261 [00:18<00:13, 40.20it/s]"
     ]
    },
    {
     "name": "stderr",
     "output_type": "stream",
     "text": [
      "\r 58%|█████▊    | 732/1261 [00:18<00:13, 38.71it/s]"
     ]
    },
    {
     "name": "stderr",
     "output_type": "stream",
     "text": [
      "\r 58%|█████▊    | 736/1261 [00:18<00:13, 38.92it/s]"
     ]
    },
    {
     "name": "stderr",
     "output_type": "stream",
     "text": [
      "\r 59%|█████▉    | 741/1261 [00:18<00:13, 39.47it/s]"
     ]
    },
    {
     "name": "stderr",
     "output_type": "stream",
     "text": [
      "\r 59%|█████▉    | 745/1261 [00:19<00:13, 39.05it/s]"
     ]
    },
    {
     "name": "stderr",
     "output_type": "stream",
     "text": [
      "\r 59%|█████▉    | 749/1261 [00:19<00:13, 39.16it/s]"
     ]
    },
    {
     "name": "stderr",
     "output_type": "stream",
     "text": [
      "\r 60%|█████▉    | 754/1261 [00:19<00:12, 40.21it/s]"
     ]
    },
    {
     "name": "stderr",
     "output_type": "stream",
     "text": [
      "\r 60%|██████    | 759/1261 [00:19<00:12, 39.57it/s]"
     ]
    },
    {
     "name": "stderr",
     "output_type": "stream",
     "text": [
      "\r 61%|██████    | 763/1261 [00:19<00:13, 37.59it/s]"
     ]
    },
    {
     "name": "stderr",
     "output_type": "stream",
     "text": [
      "\r 61%|██████    | 767/1261 [00:19<00:13, 37.17it/s]"
     ]
    },
    {
     "name": "stderr",
     "output_type": "stream",
     "text": [
      "\r 61%|██████    | 771/1261 [00:19<00:13, 36.01it/s]"
     ]
    },
    {
     "name": "stderr",
     "output_type": "stream",
     "text": [
      "\r 61%|██████▏   | 775/1261 [00:19<00:13, 36.52it/s]"
     ]
    },
    {
     "name": "stderr",
     "output_type": "stream",
     "text": [
      "\r 62%|██████▏   | 779/1261 [00:19<00:13, 36.47it/s]"
     ]
    },
    {
     "name": "stderr",
     "output_type": "stream",
     "text": [
      "\r 62%|██████▏   | 783/1261 [00:20<00:13, 34.76it/s]"
     ]
    },
    {
     "name": "stderr",
     "output_type": "stream",
     "text": [
      "\r 62%|██████▏   | 787/1261 [00:20<00:13, 35.72it/s]"
     ]
    },
    {
     "name": "stderr",
     "output_type": "stream",
     "text": [
      "\r 63%|██████▎   | 791/1261 [00:20<00:13, 36.09it/s]"
     ]
    },
    {
     "name": "stderr",
     "output_type": "stream",
     "text": [
      "\r 63%|██████▎   | 795/1261 [00:20<00:13, 35.30it/s]"
     ]
    },
    {
     "name": "stderr",
     "output_type": "stream",
     "text": [
      "\r 63%|██████▎   | 799/1261 [00:20<00:13, 34.02it/s]"
     ]
    },
    {
     "name": "stderr",
     "output_type": "stream",
     "text": [
      "\r 64%|██████▎   | 803/1261 [00:20<00:15, 30.27it/s]"
     ]
    },
    {
     "name": "stderr",
     "output_type": "stream",
     "text": [
      "\r 64%|██████▍   | 807/1261 [00:20<00:14, 30.74it/s]"
     ]
    },
    {
     "name": "stderr",
     "output_type": "stream",
     "text": [
      "\r 64%|██████▍   | 811/1261 [00:20<00:14, 31.49it/s]"
     ]
    },
    {
     "name": "stderr",
     "output_type": "stream",
     "text": [
      "\r 65%|██████▍   | 815/1261 [00:21<00:13, 32.58it/s]"
     ]
    },
    {
     "name": "stderr",
     "output_type": "stream",
     "text": [
      "\r 65%|██████▍   | 819/1261 [00:21<00:13, 33.15it/s]"
     ]
    },
    {
     "name": "stderr",
     "output_type": "stream",
     "text": [
      "\r 65%|██████▌   | 823/1261 [00:21<00:12, 34.03it/s]"
     ]
    },
    {
     "name": "stderr",
     "output_type": "stream",
     "text": [
      "\r 66%|██████▌   | 828/1261 [00:21<00:12, 35.64it/s]"
     ]
    },
    {
     "name": "stderr",
     "output_type": "stream",
     "text": [
      "\r 66%|██████▌   | 832/1261 [00:21<00:11, 36.16it/s]"
     ]
    },
    {
     "name": "stderr",
     "output_type": "stream",
     "text": [
      "\r 66%|██████▋   | 836/1261 [00:21<00:12, 33.43it/s]"
     ]
    },
    {
     "name": "stderr",
     "output_type": "stream",
     "text": [
      "\r 67%|██████▋   | 841/1261 [00:21<00:11, 35.27it/s]"
     ]
    },
    {
     "name": "stderr",
     "output_type": "stream",
     "text": [
      "\r 67%|██████▋   | 845/1261 [00:21<00:11, 35.15it/s]"
     ]
    },
    {
     "name": "stderr",
     "output_type": "stream",
     "text": [
      "\r 67%|██████▋   | 850/1261 [00:22<00:11, 36.51it/s]"
     ]
    },
    {
     "name": "stderr",
     "output_type": "stream",
     "text": [
      "\r 68%|██████▊   | 854/1261 [00:22<00:10, 37.17it/s]"
     ]
    },
    {
     "name": "stderr",
     "output_type": "stream",
     "text": [
      "\r 68%|██████▊   | 859/1261 [00:22<00:10, 37.79it/s]"
     ]
    },
    {
     "name": "stderr",
     "output_type": "stream",
     "text": [
      "\r 69%|██████▊   | 864/1261 [00:22<00:10, 38.61it/s]"
     ]
    },
    {
     "name": "stderr",
     "output_type": "stream",
     "text": [
      "\r 69%|██████▉   | 869/1261 [00:22<00:09, 39.32it/s]"
     ]
    },
    {
     "name": "stderr",
     "output_type": "stream",
     "text": [
      "\r 69%|██████▉   | 873/1261 [00:22<00:10, 38.03it/s]"
     ]
    },
    {
     "name": "stderr",
     "output_type": "stream",
     "text": [
      "\r 70%|██████▉   | 877/1261 [00:22<00:10, 36.22it/s]"
     ]
    },
    {
     "name": "stderr",
     "output_type": "stream",
     "text": [
      "\r 70%|██████▉   | 881/1261 [00:22<00:10, 36.01it/s]"
     ]
    },
    {
     "name": "stderr",
     "output_type": "stream",
     "text": [
      "\r 70%|███████   | 885/1261 [00:22<00:10, 36.64it/s]"
     ]
    },
    {
     "name": "stderr",
     "output_type": "stream",
     "text": [
      "\r 71%|███████   | 890/1261 [00:23<00:09, 37.40it/s]"
     ]
    },
    {
     "name": "stderr",
     "output_type": "stream",
     "text": [
      "\r 71%|███████   | 894/1261 [00:23<00:09, 37.70it/s]"
     ]
    },
    {
     "name": "stderr",
     "output_type": "stream",
     "text": [
      "\r 71%|███████▏  | 899/1261 [00:23<00:09, 39.19it/s]"
     ]
    },
    {
     "name": "stderr",
     "output_type": "stream",
     "text": [
      "\r 72%|███████▏  | 903/1261 [00:23<00:09, 38.44it/s]"
     ]
    },
    {
     "name": "stderr",
     "output_type": "stream",
     "text": [
      "\r 72%|███████▏  | 907/1261 [00:23<00:09, 37.75it/s]"
     ]
    },
    {
     "name": "stderr",
     "output_type": "stream",
     "text": [
      "\r 72%|███████▏  | 911/1261 [00:23<00:10, 34.88it/s]"
     ]
    },
    {
     "name": "stderr",
     "output_type": "stream",
     "text": [
      "\r 73%|███████▎  | 915/1261 [00:23<00:09, 36.22it/s]"
     ]
    },
    {
     "name": "stderr",
     "output_type": "stream",
     "text": [
      "\r 73%|███████▎  | 919/1261 [00:23<00:09, 37.15it/s]"
     ]
    },
    {
     "name": "stderr",
     "output_type": "stream",
     "text": [
      "\r 73%|███████▎  | 924/1261 [00:24<00:08, 38.37it/s]"
     ]
    },
    {
     "name": "stderr",
     "output_type": "stream",
     "text": [
      "\r 74%|███████▎  | 929/1261 [00:24<00:08, 38.96it/s]"
     ]
    },
    {
     "name": "stderr",
     "output_type": "stream",
     "text": [
      "\r 74%|███████▍  | 933/1261 [00:24<00:08, 38.06it/s]"
     ]
    },
    {
     "name": "stderr",
     "output_type": "stream",
     "text": [
      "\r 74%|███████▍  | 938/1261 [00:24<00:08, 39.06it/s]"
     ]
    },
    {
     "name": "stderr",
     "output_type": "stream",
     "text": [
      "\r 75%|███████▍  | 942/1261 [00:24<00:08, 38.79it/s]"
     ]
    },
    {
     "name": "stderr",
     "output_type": "stream",
     "text": [
      "\r 75%|███████▌  | 946/1261 [00:24<00:08, 38.67it/s]"
     ]
    },
    {
     "name": "stderr",
     "output_type": "stream",
     "text": [
      "\r 75%|███████▌  | 950/1261 [00:24<00:08, 35.17it/s]"
     ]
    },
    {
     "name": "stderr",
     "output_type": "stream",
     "text": [
      "\r 76%|███████▌  | 954/1261 [00:24<00:08, 36.37it/s]"
     ]
    },
    {
     "name": "stderr",
     "output_type": "stream",
     "text": [
      "\r 76%|███████▌  | 958/1261 [00:24<00:08, 37.36it/s]"
     ]
    },
    {
     "name": "stderr",
     "output_type": "stream",
     "text": [
      "\r 76%|███████▋  | 962/1261 [00:25<00:08, 36.88it/s]"
     ]
    },
    {
     "name": "stderr",
     "output_type": "stream",
     "text": [
      "\r 77%|███████▋  | 966/1261 [00:25<00:08, 35.78it/s]"
     ]
    },
    {
     "name": "stderr",
     "output_type": "stream",
     "text": [
      "\r 77%|███████▋  | 970/1261 [00:25<00:08, 35.66it/s]"
     ]
    },
    {
     "name": "stderr",
     "output_type": "stream",
     "text": [
      "\r 77%|███████▋  | 974/1261 [00:25<00:08, 35.48it/s]"
     ]
    },
    {
     "name": "stderr",
     "output_type": "stream",
     "text": [
      "\r 78%|███████▊  | 978/1261 [00:25<00:07, 35.44it/s]"
     ]
    },
    {
     "name": "stderr",
     "output_type": "stream",
     "text": [
      "\r 78%|███████▊  | 982/1261 [00:25<00:07, 36.23it/s]"
     ]
    },
    {
     "name": "stderr",
     "output_type": "stream",
     "text": [
      "\r 78%|███████▊  | 986/1261 [00:25<00:07, 34.93it/s]"
     ]
    },
    {
     "name": "stderr",
     "output_type": "stream",
     "text": [
      "\r 79%|███████▊  | 990/1261 [00:25<00:07, 35.80it/s]"
     ]
    },
    {
     "name": "stderr",
     "output_type": "stream",
     "text": [
      "\r 79%|███████▉  | 994/1261 [00:25<00:07, 36.94it/s]"
     ]
    },
    {
     "name": "stderr",
     "output_type": "stream",
     "text": [
      "\r 79%|███████▉  | 998/1261 [00:26<00:06, 37.59it/s]"
     ]
    },
    {
     "name": "stderr",
     "output_type": "stream",
     "text": [
      "\r 79%|███████▉  | 1002/1261 [00:26<00:06, 37.76it/s]"
     ]
    },
    {
     "name": "stderr",
     "output_type": "stream",
     "text": [
      "\r 80%|███████▉  | 1006/1261 [00:26<00:06, 38.30it/s]"
     ]
    },
    {
     "name": "stderr",
     "output_type": "stream",
     "text": [
      "\r 80%|████████  | 1010/1261 [00:26<00:06, 38.02it/s]"
     ]
    },
    {
     "name": "stderr",
     "output_type": "stream",
     "text": [
      "\r 80%|████████  | 1014/1261 [00:26<00:06, 37.15it/s]"
     ]
    },
    {
     "name": "stderr",
     "output_type": "stream",
     "text": [
      "\r 81%|████████  | 1018/1261 [00:26<00:06, 36.42it/s]"
     ]
    },
    {
     "name": "stderr",
     "output_type": "stream",
     "text": [
      "\r 81%|████████  | 1022/1261 [00:26<00:07, 32.54it/s]"
     ]
    },
    {
     "name": "stderr",
     "output_type": "stream",
     "text": [
      "\r 81%|████████▏ | 1026/1261 [00:26<00:06, 33.84it/s]"
     ]
    },
    {
     "name": "stderr",
     "output_type": "stream",
     "text": [
      "\r 82%|████████▏ | 1030/1261 [00:26<00:06, 33.61it/s]"
     ]
    },
    {
     "name": "stderr",
     "output_type": "stream",
     "text": [
      "\r 82%|████████▏ | 1034/1261 [00:27<00:06, 33.95it/s]"
     ]
    },
    {
     "name": "stderr",
     "output_type": "stream",
     "text": [
      "\r 82%|████████▏ | 1038/1261 [00:27<00:06, 33.96it/s]"
     ]
    },
    {
     "name": "stderr",
     "output_type": "stream",
     "text": [
      "\r 83%|████████▎ | 1042/1261 [00:27<00:06, 34.29it/s]"
     ]
    },
    {
     "name": "stderr",
     "output_type": "stream",
     "text": [
      "\r 83%|████████▎ | 1046/1261 [00:27<00:06, 34.33it/s]"
     ]
    },
    {
     "name": "stderr",
     "output_type": "stream",
     "text": [
      "\r 83%|████████▎ | 1050/1261 [00:27<00:05, 35.45it/s]"
     ]
    },
    {
     "name": "stderr",
     "output_type": "stream",
     "text": [
      "\r 84%|████████▎ | 1054/1261 [00:27<00:05, 35.46it/s]"
     ]
    },
    {
     "name": "stderr",
     "output_type": "stream",
     "text": [
      "\r 84%|████████▍ | 1058/1261 [00:27<00:06, 32.96it/s]"
     ]
    },
    {
     "name": "stderr",
     "output_type": "stream",
     "text": [
      "\r 84%|████████▍ | 1062/1261 [00:27<00:05, 34.09it/s]"
     ]
    },
    {
     "name": "stderr",
     "output_type": "stream",
     "text": [
      "\r 85%|████████▍ | 1066/1261 [00:27<00:05, 34.46it/s]"
     ]
    },
    {
     "name": "stderr",
     "output_type": "stream",
     "text": [
      "\r 85%|████████▍ | 1070/1261 [00:28<00:05, 34.84it/s]"
     ]
    },
    {
     "name": "stderr",
     "output_type": "stream",
     "text": [
      "\r 85%|████████▌ | 1074/1261 [00:28<00:05, 32.01it/s]"
     ]
    },
    {
     "name": "stderr",
     "output_type": "stream",
     "text": [
      "\r 85%|████████▌ | 1078/1261 [00:28<00:05, 31.24it/s]"
     ]
    },
    {
     "name": "stderr",
     "output_type": "stream",
     "text": [
      "\r 86%|████████▌ | 1082/1261 [00:28<00:05, 31.34it/s]"
     ]
    },
    {
     "name": "stderr",
     "output_type": "stream",
     "text": [
      "\r 86%|████████▌ | 1086/1261 [00:28<00:05, 31.51it/s]"
     ]
    },
    {
     "name": "stderr",
     "output_type": "stream",
     "text": [
      "\r 86%|████████▋ | 1090/1261 [00:28<00:05, 29.68it/s]"
     ]
    },
    {
     "name": "stderr",
     "output_type": "stream",
     "text": [
      "\r 87%|████████▋ | 1094/1261 [00:28<00:05, 30.65it/s]"
     ]
    },
    {
     "name": "stderr",
     "output_type": "stream",
     "text": [
      "\r 87%|████████▋ | 1098/1261 [00:29<00:05, 31.89it/s]"
     ]
    },
    {
     "name": "stderr",
     "output_type": "stream",
     "text": [
      "\r 87%|████████▋ | 1102/1261 [00:29<00:04, 33.09it/s]"
     ]
    },
    {
     "name": "stderr",
     "output_type": "stream",
     "text": [
      "\r 88%|████████▊ | 1106/1261 [00:29<00:04, 34.83it/s]"
     ]
    },
    {
     "name": "stderr",
     "output_type": "stream",
     "text": [
      "\r 88%|████████▊ | 1111/1261 [00:29<00:04, 36.21it/s]"
     ]
    },
    {
     "name": "stderr",
     "output_type": "stream",
     "text": [
      "\r 88%|████████▊ | 1115/1261 [00:29<00:04, 35.61it/s]"
     ]
    },
    {
     "name": "stderr",
     "output_type": "stream",
     "text": [
      "\r 89%|████████▉ | 1120/1261 [00:29<00:03, 37.30it/s]"
     ]
    },
    {
     "name": "stderr",
     "output_type": "stream",
     "text": [
      "\r 89%|████████▉ | 1124/1261 [00:29<00:04, 33.62it/s]"
     ]
    },
    {
     "name": "stderr",
     "output_type": "stream",
     "text": [
      "\r 89%|████████▉ | 1128/1261 [00:29<00:03, 35.15it/s]"
     ]
    },
    {
     "name": "stderr",
     "output_type": "stream",
     "text": [
      "\r 90%|████████▉ | 1132/1261 [00:29<00:03, 36.09it/s]"
     ]
    },
    {
     "name": "stderr",
     "output_type": "stream",
     "text": [
      "\r 90%|█████████ | 1136/1261 [00:30<00:03, 35.53it/s]"
     ]
    },
    {
     "name": "stderr",
     "output_type": "stream",
     "text": [
      "\r 90%|█████████ | 1140/1261 [00:30<00:03, 34.79it/s]"
     ]
    },
    {
     "name": "stderr",
     "output_type": "stream",
     "text": [
      "\r 91%|█████████ | 1144/1261 [00:30<00:03, 35.72it/s]"
     ]
    },
    {
     "name": "stderr",
     "output_type": "stream",
     "text": [
      "\r 91%|█████████ | 1148/1261 [00:30<00:03, 36.58it/s]"
     ]
    },
    {
     "name": "stderr",
     "output_type": "stream",
     "text": [
      "\r 91%|█████████▏| 1153/1261 [00:30<00:02, 37.71it/s]"
     ]
    },
    {
     "name": "stderr",
     "output_type": "stream",
     "text": [
      "\r 92%|█████████▏| 1158/1261 [00:30<00:02, 38.45it/s]"
     ]
    },
    {
     "name": "stderr",
     "output_type": "stream",
     "text": [
      "\r 92%|█████████▏| 1162/1261 [00:30<00:02, 35.10it/s]"
     ]
    },
    {
     "name": "stderr",
     "output_type": "stream",
     "text": [
      "\r 93%|█████████▎| 1167/1261 [00:30<00:02, 36.45it/s]"
     ]
    },
    {
     "name": "stderr",
     "output_type": "stream",
     "text": [
      "\r 93%|█████████▎| 1172/1261 [00:31<00:02, 37.85it/s]"
     ]
    },
    {
     "name": "stderr",
     "output_type": "stream",
     "text": [
      "\r 93%|█████████▎| 1177/1261 [00:31<00:02, 38.60it/s]"
     ]
    },
    {
     "name": "stderr",
     "output_type": "stream",
     "text": [
      "\r 94%|█████████▎| 1182/1261 [00:31<00:02, 39.10it/s]"
     ]
    },
    {
     "name": "stderr",
     "output_type": "stream",
     "text": [
      "\r 94%|█████████▍| 1187/1261 [00:31<00:01, 39.71it/s]"
     ]
    },
    {
     "name": "stderr",
     "output_type": "stream",
     "text": [
      "\r 94%|█████████▍| 1191/1261 [00:31<00:01, 39.08it/s]"
     ]
    },
    {
     "name": "stderr",
     "output_type": "stream",
     "text": [
      "\r 95%|█████████▍| 1196/1261 [00:31<00:01, 39.60it/s]"
     ]
    },
    {
     "name": "stderr",
     "output_type": "stream",
     "text": [
      "\r 95%|█████████▌| 1200/1261 [00:31<00:01, 36.74it/s]"
     ]
    },
    {
     "name": "stderr",
     "output_type": "stream",
     "text": [
      "\r 95%|█████████▌| 1204/1261 [00:31<00:01, 36.62it/s]"
     ]
    },
    {
     "name": "stderr",
     "output_type": "stream",
     "text": [
      "\r 96%|█████████▌| 1208/1261 [00:31<00:01, 35.24it/s]"
     ]
    },
    {
     "name": "stderr",
     "output_type": "stream",
     "text": [
      "\r 96%|█████████▌| 1212/1261 [00:32<00:01, 34.88it/s]"
     ]
    },
    {
     "name": "stderr",
     "output_type": "stream",
     "text": [
      "\r 96%|█████████▋| 1216/1261 [00:32<00:01, 33.05it/s]"
     ]
    },
    {
     "name": "stderr",
     "output_type": "stream",
     "text": [
      "\r 97%|█████████▋| 1220/1261 [00:32<00:01, 32.98it/s]"
     ]
    },
    {
     "name": "stderr",
     "output_type": "stream",
     "text": [
      "\r 97%|█████████▋| 1224/1261 [00:32<00:01, 32.93it/s]"
     ]
    },
    {
     "name": "stderr",
     "output_type": "stream",
     "text": [
      "\r 97%|█████████▋| 1228/1261 [00:32<00:01, 32.91it/s]"
     ]
    },
    {
     "name": "stderr",
     "output_type": "stream",
     "text": [
      "\r 98%|█████████▊| 1232/1261 [00:32<00:00, 30.62it/s]"
     ]
    },
    {
     "name": "stderr",
     "output_type": "stream",
     "text": [
      "\r 98%|█████████▊| 1236/1261 [00:32<00:00, 32.49it/s]"
     ]
    },
    {
     "name": "stderr",
     "output_type": "stream",
     "text": [
      "\r 98%|█████████▊| 1240/1261 [00:32<00:00, 33.72it/s]"
     ]
    },
    {
     "name": "stderr",
     "output_type": "stream",
     "text": [
      "\r 99%|█████████▊| 1244/1261 [00:33<00:00, 31.86it/s]"
     ]
    },
    {
     "name": "stderr",
     "output_type": "stream",
     "text": [
      "\r 99%|█████████▉| 1248/1261 [00:33<00:00, 33.72it/s]"
     ]
    },
    {
     "name": "stderr",
     "output_type": "stream",
     "text": [
      "\r 99%|█████████▉| 1252/1261 [00:33<00:00, 34.48it/s]"
     ]
    },
    {
     "name": "stderr",
     "output_type": "stream",
     "text": [
      "\r100%|█████████▉| 1256/1261 [00:33<00:00, 33.37it/s]"
     ]
    },
    {
     "name": "stderr",
     "output_type": "stream",
     "text": [
      "\r100%|█████████▉| 1260/1261 [00:33<00:00, 32.50it/s]"
     ]
    },
    {
     "name": "stderr",
     "output_type": "stream",
     "text": [
      "\n"
     ]
    },
    {
     "name": "stdout",
     "output_type": "stream",
     "text": [
      "[MoviePy] Done.\n"
     ]
    },
    {
     "name": "stdout",
     "output_type": "stream",
     "text": [
      "[MoviePy] >>>> Video ready: ./output/videos/004 - Advanced Project.mp4 \n\n"
     ]
    },
    {
     "name": "stdout",
     "output_type": "stream",
     "text": [
      "CPU times: user 35.3 s, sys: 8.28 s, total: 43.6 s\nWall time: 34.4 s\n--------\n\nProcessing 005 - Advanced Project Challenge.mp4:\n"
     ]
    },
    {
     "name": "stdout",
     "output_type": "stream",
     "text": [
      "[MoviePy] >>>> Building video ./output/videos/005 - Advanced Project Challenge.mp4\n"
     ]
    },
    {
     "name": "stdout",
     "output_type": "stream",
     "text": [
      "[MoviePy] Writing video ./output/videos/005 - Advanced Project Challenge.mp4\n"
     ]
    },
    {
     "name": "stderr",
     "output_type": "stream",
     "text": [
      "\r  0%|          | 0/485 [00:00<?, ?it/s]"
     ]
    },
    {
     "name": "stderr",
     "output_type": "stream",
     "text": [
      "\r  1%|          | 4/485 [00:00<00:13, 34.83it/s]"
     ]
    },
    {
     "name": "stderr",
     "output_type": "stream",
     "text": [
      "\r  2%|▏         | 9/485 [00:00<00:12, 37.14it/s]"
     ]
    },
    {
     "name": "stderr",
     "output_type": "stream",
     "text": [
      "\r  3%|▎         | 14/485 [00:00<00:12, 39.15it/s]"
     ]
    },
    {
     "name": "stderr",
     "output_type": "stream",
     "text": [
      "\r  4%|▍         | 19/485 [00:00<00:11, 41.15it/s]"
     ]
    },
    {
     "name": "stderr",
     "output_type": "stream",
     "text": [
      "\r  5%|▍         | 24/485 [00:00<00:10, 42.85it/s]"
     ]
    },
    {
     "name": "stderr",
     "output_type": "stream",
     "text": [
      "\r  6%|▌         | 29/485 [00:00<00:10, 42.53it/s]"
     ]
    },
    {
     "name": "stderr",
     "output_type": "stream",
     "text": [
      "\r  7%|▋         | 34/485 [00:00<00:10, 43.04it/s]"
     ]
    },
    {
     "name": "stderr",
     "output_type": "stream",
     "text": [
      "\r  8%|▊         | 39/485 [00:00<00:10, 44.10it/s]"
     ]
    },
    {
     "name": "stderr",
     "output_type": "stream",
     "text": [
      "\r  9%|▉         | 44/485 [00:01<00:11, 40.00it/s]"
     ]
    },
    {
     "name": "stderr",
     "output_type": "stream",
     "text": [
      "\r 10%|▉         | 48/485 [00:01<00:11, 38.67it/s]"
     ]
    },
    {
     "name": "stderr",
     "output_type": "stream",
     "text": [
      "\r 11%|█         | 53/485 [00:01<00:11, 39.03it/s]"
     ]
    },
    {
     "name": "stderr",
     "output_type": "stream",
     "text": [
      "\r 12%|█▏        | 57/485 [00:01<00:11, 37.16it/s]"
     ]
    },
    {
     "name": "stderr",
     "output_type": "stream",
     "text": [
      "\r 13%|█▎        | 61/485 [00:01<00:11, 35.87it/s]"
     ]
    },
    {
     "name": "stderr",
     "output_type": "stream",
     "text": [
      "\r 13%|█▎        | 65/485 [00:01<00:11, 35.83it/s]"
     ]
    },
    {
     "name": "stderr",
     "output_type": "stream",
     "text": [
      "\r 14%|█▍        | 69/485 [00:01<00:11, 35.59it/s]"
     ]
    },
    {
     "name": "stderr",
     "output_type": "stream",
     "text": [
      "\r 15%|█▌        | 73/485 [00:01<00:11, 35.08it/s]"
     ]
    },
    {
     "name": "stderr",
     "output_type": "stream",
     "text": [
      "\r 16%|█▌        | 77/485 [00:01<00:12, 33.99it/s]"
     ]
    },
    {
     "name": "stderr",
     "output_type": "stream",
     "text": [
      "\r 17%|█▋        | 81/485 [00:02<00:13, 30.33it/s]"
     ]
    },
    {
     "name": "stderr",
     "output_type": "stream",
     "text": [
      "\r 18%|█▊        | 85/485 [00:02<00:12, 31.75it/s]"
     ]
    },
    {
     "name": "stderr",
     "output_type": "stream",
     "text": [
      "\r 18%|█▊        | 89/485 [00:02<00:12, 32.60it/s]"
     ]
    },
    {
     "name": "stderr",
     "output_type": "stream",
     "text": [
      "\r 19%|█▉        | 93/485 [00:02<00:11, 34.19it/s]"
     ]
    },
    {
     "name": "stderr",
     "output_type": "stream",
     "text": [
      "\r 20%|██        | 97/485 [00:02<00:11, 34.85it/s]"
     ]
    },
    {
     "name": "stderr",
     "output_type": "stream",
     "text": [
      "\r 21%|██        | 101/485 [00:02<00:11, 33.44it/s]"
     ]
    },
    {
     "name": "stderr",
     "output_type": "stream",
     "text": [
      "\r 22%|██▏       | 105/485 [00:02<00:11, 31.99it/s]"
     ]
    },
    {
     "name": "stderr",
     "output_type": "stream",
     "text": [
      "\r 22%|██▏       | 109/485 [00:02<00:11, 32.95it/s]"
     ]
    },
    {
     "name": "stderr",
     "output_type": "stream",
     "text": [
      "\r 23%|██▎       | 113/485 [00:03<00:12, 30.82it/s]"
     ]
    },
    {
     "name": "stderr",
     "output_type": "stream",
     "text": [
      "\r 24%|██▍       | 117/485 [00:03<00:11, 32.02it/s]"
     ]
    },
    {
     "name": "stderr",
     "output_type": "stream",
     "text": [
      "\r 25%|██▌       | 122/485 [00:03<00:10, 34.22it/s]"
     ]
    },
    {
     "name": "stderr",
     "output_type": "stream",
     "text": [
      "\r 26%|██▌       | 126/485 [00:03<00:10, 35.10it/s]"
     ]
    },
    {
     "name": "stderr",
     "output_type": "stream",
     "text": [
      "\r 27%|██▋       | 131/485 [00:03<00:09, 36.08it/s]"
     ]
    },
    {
     "name": "stderr",
     "output_type": "stream",
     "text": [
      "\r 28%|██▊       | 136/485 [00:03<00:09, 37.14it/s]"
     ]
    },
    {
     "name": "stderr",
     "output_type": "stream",
     "text": [
      "\r 29%|██▉       | 140/485 [00:03<00:09, 35.37it/s]"
     ]
    },
    {
     "name": "stderr",
     "output_type": "stream",
     "text": [
      "\r 30%|██▉       | 144/485 [00:03<00:09, 35.69it/s]"
     ]
    },
    {
     "name": "stderr",
     "output_type": "stream",
     "text": [
      "\r 31%|███       | 148/485 [00:04<00:09, 33.86it/s]"
     ]
    },
    {
     "name": "stderr",
     "output_type": "stream",
     "text": [
      "\r 31%|███▏      | 152/485 [00:04<00:09, 34.17it/s]"
     ]
    },
    {
     "name": "stderr",
     "output_type": "stream",
     "text": [
      "\r 32%|███▏      | 156/485 [00:04<00:09, 34.24it/s]"
     ]
    },
    {
     "name": "stderr",
     "output_type": "stream",
     "text": [
      "\r 33%|███▎      | 160/485 [00:04<00:09, 34.16it/s]"
     ]
    },
    {
     "name": "stderr",
     "output_type": "stream",
     "text": [
      "\r 34%|███▍      | 164/485 [00:04<00:10, 31.17it/s]"
     ]
    },
    {
     "name": "stderr",
     "output_type": "stream",
     "text": [
      "\r 35%|███▍      | 168/485 [00:04<00:10, 31.40it/s]"
     ]
    },
    {
     "name": "stderr",
     "output_type": "stream",
     "text": [
      "\r 35%|███▌      | 172/485 [00:04<00:10, 30.30it/s]"
     ]
    },
    {
     "name": "stderr",
     "output_type": "stream",
     "text": [
      "\r 36%|███▋      | 176/485 [00:05<00:12, 24.37it/s]"
     ]
    },
    {
     "name": "stderr",
     "output_type": "stream",
     "text": [
      "\r 37%|███▋      | 179/485 [00:05<00:13, 22.67it/s]"
     ]
    },
    {
     "name": "stderr",
     "output_type": "stream",
     "text": [
      "\r 38%|███▊      | 182/485 [00:05<00:13, 22.07it/s]"
     ]
    },
    {
     "name": "stderr",
     "output_type": "stream",
     "text": [
      "\r 38%|███▊      | 185/485 [00:05<00:13, 21.75it/s]"
     ]
    },
    {
     "name": "stderr",
     "output_type": "stream",
     "text": [
      "\r 39%|███▉      | 188/485 [00:05<00:12, 23.25it/s]"
     ]
    },
    {
     "name": "stderr",
     "output_type": "stream",
     "text": [
      "\r 39%|███▉      | 191/485 [00:05<00:11, 24.58it/s]"
     ]
    },
    {
     "name": "stderr",
     "output_type": "stream",
     "text": [
      "\r 40%|████      | 194/485 [00:05<00:11, 25.89it/s]"
     ]
    },
    {
     "name": "stderr",
     "output_type": "stream",
     "text": [
      "\r 41%|████      | 198/485 [00:06<00:10, 26.38it/s]"
     ]
    },
    {
     "name": "stderr",
     "output_type": "stream",
     "text": [
      "\r 41%|████▏     | 201/485 [00:06<00:11, 25.80it/s]"
     ]
    },
    {
     "name": "stderr",
     "output_type": "stream",
     "text": [
      "\r 42%|████▏     | 204/485 [00:06<00:10, 26.51it/s]"
     ]
    },
    {
     "name": "stderr",
     "output_type": "stream",
     "text": [
      "\r 43%|████▎     | 208/485 [00:06<00:09, 27.93it/s]"
     ]
    },
    {
     "name": "stderr",
     "output_type": "stream",
     "text": [
      "\r 44%|████▎     | 211/485 [00:06<00:09, 27.81it/s]"
     ]
    },
    {
     "name": "stderr",
     "output_type": "stream",
     "text": [
      "\r 44%|████▍     | 214/485 [00:06<00:09, 28.06it/s]"
     ]
    },
    {
     "name": "stderr",
     "output_type": "stream",
     "text": [
      "\r 45%|████▍     | 218/485 [00:06<00:09, 29.55it/s]"
     ]
    },
    {
     "name": "stderr",
     "output_type": "stream",
     "text": [
      "\r 46%|████▌     | 222/485 [00:06<00:08, 30.76it/s]"
     ]
    },
    {
     "name": "stderr",
     "output_type": "stream",
     "text": [
      "\r 47%|████▋     | 226/485 [00:06<00:08, 31.84it/s]"
     ]
    },
    {
     "name": "stderr",
     "output_type": "stream",
     "text": [
      "\r 47%|████▋     | 230/485 [00:07<00:08, 29.39it/s]"
     ]
    },
    {
     "name": "stderr",
     "output_type": "stream",
     "text": [
      "\r 48%|████▊     | 234/485 [00:07<00:08, 31.34it/s]"
     ]
    },
    {
     "name": "stderr",
     "output_type": "stream",
     "text": [
      "\r 49%|████▉     | 238/485 [00:07<00:07, 31.92it/s]"
     ]
    },
    {
     "name": "stderr",
     "output_type": "stream",
     "text": [
      "\r 50%|████▉     | 242/485 [00:07<00:07, 32.94it/s]"
     ]
    },
    {
     "name": "stderr",
     "output_type": "stream",
     "text": [
      "\r 51%|█████     | 246/485 [00:07<00:07, 33.82it/s]"
     ]
    },
    {
     "name": "stderr",
     "output_type": "stream",
     "text": [
      "\r 52%|█████▏    | 250/485 [00:07<00:06, 34.03it/s]"
     ]
    },
    {
     "name": "stderr",
     "output_type": "stream",
     "text": [
      "\r 52%|█████▏    | 254/485 [00:07<00:06, 33.98it/s]"
     ]
    },
    {
     "name": "stderr",
     "output_type": "stream",
     "text": [
      "\r 53%|█████▎    | 258/485 [00:07<00:06, 34.87it/s]"
     ]
    },
    {
     "name": "stderr",
     "output_type": "stream",
     "text": [
      "\r 54%|█████▍    | 262/485 [00:08<00:06, 32.03it/s]"
     ]
    },
    {
     "name": "stderr",
     "output_type": "stream",
     "text": [
      "\r 55%|█████▍    | 266/485 [00:08<00:06, 33.67it/s]"
     ]
    },
    {
     "name": "stderr",
     "output_type": "stream",
     "text": [
      "\r 56%|█████▌    | 270/485 [00:08<00:06, 33.73it/s]"
     ]
    },
    {
     "name": "stderr",
     "output_type": "stream",
     "text": [
      "\r 56%|█████▋    | 274/485 [00:08<00:06, 34.64it/s]"
     ]
    },
    {
     "name": "stderr",
     "output_type": "stream",
     "text": [
      "\r 57%|█████▋    | 278/485 [00:08<00:05, 35.22it/s]"
     ]
    },
    {
     "name": "stderr",
     "output_type": "stream",
     "text": [
      "\r 58%|█████▊    | 282/485 [00:08<00:05, 35.20it/s]"
     ]
    },
    {
     "name": "stderr",
     "output_type": "stream",
     "text": [
      "\r 59%|█████▉    | 286/485 [00:08<00:05, 36.13it/s]"
     ]
    },
    {
     "name": "stderr",
     "output_type": "stream",
     "text": [
      "\r 60%|█████▉    | 290/485 [00:08<00:05, 36.04it/s]"
     ]
    },
    {
     "name": "stderr",
     "output_type": "stream",
     "text": [
      "\r 61%|██████    | 294/485 [00:08<00:05, 35.87it/s]"
     ]
    },
    {
     "name": "stderr",
     "output_type": "stream",
     "text": [
      "\r 61%|██████▏   | 298/485 [00:09<00:05, 32.84it/s]"
     ]
    },
    {
     "name": "stderr",
     "output_type": "stream",
     "text": [
      "\r 62%|██████▏   | 303/485 [00:09<00:05, 35.13it/s]"
     ]
    },
    {
     "name": "stderr",
     "output_type": "stream",
     "text": [
      "\r 63%|██████▎   | 307/485 [00:09<00:04, 36.36it/s]"
     ]
    },
    {
     "name": "stderr",
     "output_type": "stream",
     "text": [
      "\r 64%|██████▍   | 311/485 [00:09<00:04, 37.20it/s]"
     ]
    },
    {
     "name": "stderr",
     "output_type": "stream",
     "text": [
      "\r 65%|██████▍   | 315/485 [00:09<00:04, 37.56it/s]"
     ]
    },
    {
     "name": "stderr",
     "output_type": "stream",
     "text": [
      "\r 66%|██████▌   | 319/485 [00:09<00:04, 37.64it/s]"
     ]
    },
    {
     "name": "stderr",
     "output_type": "stream",
     "text": [
      "\r 67%|██████▋   | 323/485 [00:09<00:04, 37.91it/s]"
     ]
    },
    {
     "name": "stderr",
     "output_type": "stream",
     "text": [
      "\r 67%|██████▋   | 327/485 [00:09<00:04, 37.94it/s]"
     ]
    },
    {
     "name": "stderr",
     "output_type": "stream",
     "text": [
      "\r 68%|██████▊   | 331/485 [00:09<00:04, 38.24it/s]"
     ]
    },
    {
     "name": "stderr",
     "output_type": "stream",
     "text": [
      "\r 69%|██████▉   | 335/485 [00:10<00:04, 34.44it/s]"
     ]
    },
    {
     "name": "stderr",
     "output_type": "stream",
     "text": [
      "\r 70%|██████▉   | 339/485 [00:10<00:04, 35.37it/s]"
     ]
    },
    {
     "name": "stderr",
     "output_type": "stream",
     "text": [
      "\r 71%|███████   | 343/485 [00:10<00:03, 36.15it/s]"
     ]
    },
    {
     "name": "stderr",
     "output_type": "stream",
     "text": [
      "\r 72%|███████▏  | 348/485 [00:10<00:03, 37.58it/s]"
     ]
    },
    {
     "name": "stderr",
     "output_type": "stream",
     "text": [
      "\r 73%|███████▎  | 353/485 [00:10<00:03, 38.02it/s]"
     ]
    },
    {
     "name": "stderr",
     "output_type": "stream",
     "text": [
      "\r 74%|███████▍  | 358/485 [00:10<00:03, 39.14it/s]"
     ]
    },
    {
     "name": "stderr",
     "output_type": "stream",
     "text": [
      "\r 75%|███████▍  | 363/485 [00:10<00:03, 39.52it/s]"
     ]
    },
    {
     "name": "stderr",
     "output_type": "stream",
     "text": [
      "\r 76%|███████▌  | 367/485 [00:10<00:02, 39.64it/s]"
     ]
    },
    {
     "name": "stderr",
     "output_type": "stream",
     "text": [
      "\r 76%|███████▋  | 371/485 [00:10<00:02, 39.45it/s]"
     ]
    },
    {
     "name": "stderr",
     "output_type": "stream",
     "text": [
      "\r 77%|███████▋  | 375/485 [00:11<00:02, 37.62it/s]"
     ]
    },
    {
     "name": "stderr",
     "output_type": "stream",
     "text": [
      "\r 78%|███████▊  | 380/485 [00:11<00:02, 38.51it/s]"
     ]
    },
    {
     "name": "stderr",
     "output_type": "stream",
     "text": [
      "\r 79%|███████▉  | 385/485 [00:11<00:02, 38.94it/s]"
     ]
    },
    {
     "name": "stderr",
     "output_type": "stream",
     "text": [
      "\r 80%|████████  | 389/485 [00:11<00:02, 37.91it/s]"
     ]
    },
    {
     "name": "stderr",
     "output_type": "stream",
     "text": [
      "\r 81%|████████  | 393/485 [00:11<00:02, 38.48it/s]"
     ]
    },
    {
     "name": "stderr",
     "output_type": "stream",
     "text": [
      "\r 82%|████████▏ | 397/485 [00:11<00:02, 38.57it/s]"
     ]
    },
    {
     "name": "stderr",
     "output_type": "stream",
     "text": [
      "\r 83%|████████▎ | 401/485 [00:11<00:02, 38.01it/s]"
     ]
    },
    {
     "name": "stderr",
     "output_type": "stream",
     "text": [
      "\r 84%|████████▎ | 405/485 [00:11<00:02, 37.70it/s]"
     ]
    },
    {
     "name": "stderr",
     "output_type": "stream",
     "text": [
      "\r 85%|████████▍ | 410/485 [00:11<00:01, 38.70it/s]"
     ]
    },
    {
     "name": "stderr",
     "output_type": "stream",
     "text": [
      "\r 85%|████████▌ | 414/485 [00:12<00:02, 35.24it/s]"
     ]
    },
    {
     "name": "stderr",
     "output_type": "stream",
     "text": [
      "\r 86%|████████▌ | 418/485 [00:12<00:01, 36.35it/s]"
     ]
    },
    {
     "name": "stderr",
     "output_type": "stream",
     "text": [
      "\r 87%|████████▋ | 423/485 [00:12<00:01, 37.32it/s]"
     ]
    },
    {
     "name": "stderr",
     "output_type": "stream",
     "text": [
      "\r 88%|████████▊ | 427/485 [00:12<00:01, 37.73it/s]"
     ]
    },
    {
     "name": "stderr",
     "output_type": "stream",
     "text": [
      "\r 89%|████████▉ | 431/485 [00:12<00:01, 37.59it/s]"
     ]
    },
    {
     "name": "stderr",
     "output_type": "stream",
     "text": [
      "\r 90%|████████▉ | 436/485 [00:12<00:01, 38.54it/s]"
     ]
    },
    {
     "name": "stderr",
     "output_type": "stream",
     "text": [
      "\r 91%|█████████ | 441/485 [00:12<00:01, 39.18it/s]"
     ]
    },
    {
     "name": "stderr",
     "output_type": "stream",
     "text": [
      "\r 92%|█████████▏| 445/485 [00:12<00:01, 39.34it/s]"
     ]
    },
    {
     "name": "stderr",
     "output_type": "stream",
     "text": [
      "\r 93%|█████████▎| 450/485 [00:13<00:00, 39.53it/s]"
     ]
    },
    {
     "name": "stderr",
     "output_type": "stream",
     "text": [
      "\r 94%|█████████▎| 454/485 [00:13<00:00, 38.45it/s]"
     ]
    },
    {
     "name": "stderr",
     "output_type": "stream",
     "text": [
      "\r 94%|█████████▍| 458/485 [00:13<00:00, 38.57it/s]"
     ]
    },
    {
     "name": "stderr",
     "output_type": "stream",
     "text": [
      "\r 95%|█████████▌| 463/485 [00:13<00:00, 38.64it/s]"
     ]
    },
    {
     "name": "stderr",
     "output_type": "stream",
     "text": [
      "\r 96%|█████████▋| 468/485 [00:13<00:00, 39.49it/s]"
     ]
    },
    {
     "name": "stderr",
     "output_type": "stream",
     "text": [
      "\r 97%|█████████▋| 472/485 [00:13<00:00, 38.66it/s]"
     ]
    },
    {
     "name": "stderr",
     "output_type": "stream",
     "text": [
      "\r 98%|█████████▊| 477/485 [00:13<00:00, 39.41it/s]"
     ]
    },
    {
     "name": "stderr",
     "output_type": "stream",
     "text": [
      "\r 99%|█████████▉| 482/485 [00:13<00:00, 40.42it/s]"
     ]
    },
    {
     "name": "stderr",
     "output_type": "stream",
     "text": [
      "\r100%|██████████| 485/485 [00:13<00:00, 34.92it/s]"
     ]
    },
    {
     "name": "stderr",
     "output_type": "stream",
     "text": [
      "\n"
     ]
    },
    {
     "name": "stdout",
     "output_type": "stream",
     "text": [
      "[MoviePy] Done.\n"
     ]
    },
    {
     "name": "stdout",
     "output_type": "stream",
     "text": [
      "[MoviePy] >>>> Video ready: ./output/videos/005 - Advanced Project Challenge.mp4 \n\n"
     ]
    },
    {
     "name": "stdout",
     "output_type": "stream",
     "text": [
      "CPU times: user 14 s, sys: 3.78 s, total: 17.7 s\nWall time: 14.6 s\n--------\n\nProcessing 006 - Advanced Project Harder Challenge.mp4:\n"
     ]
    },
    {
     "name": "stdout",
     "output_type": "stream",
     "text": [
      "[MoviePy] >>>> Building video ./output/videos/006 - Advanced Project Harder Challenge.mp4\n"
     ]
    },
    {
     "name": "stdout",
     "output_type": "stream",
     "text": [
      "[MoviePy] Writing video ./output/videos/006 - Advanced Project Harder Challenge.mp4\n"
     ]
    },
    {
     "name": "stderr",
     "output_type": "stream",
     "text": [
      "\r  0%|          | 0/1200 [00:00<?, ?it/s]"
     ]
    },
    {
     "name": "stderr",
     "output_type": "stream",
     "text": [
      "\r  0%|          | 4/1200 [00:00<00:32, 36.43it/s]"
     ]
    },
    {
     "name": "stderr",
     "output_type": "stream",
     "text": [
      "\r  1%|          | 9/1200 [00:00<00:31, 37.68it/s]"
     ]
    },
    {
     "name": "stderr",
     "output_type": "stream",
     "text": [
      "\r  1%|          | 14/1200 [00:00<00:30, 39.17it/s]"
     ]
    },
    {
     "name": "stderr",
     "output_type": "stream",
     "text": [
      "\r  2%|▏         | 19/1200 [00:00<00:29, 39.86it/s]"
     ]
    },
    {
     "name": "stderr",
     "output_type": "stream",
     "text": [
      "\r  2%|▏         | 24/1200 [00:00<00:29, 40.16it/s]"
     ]
    },
    {
     "name": "stderr",
     "output_type": "stream",
     "text": [
      "\r  2%|▏         | 28/1200 [00:00<00:29, 39.94it/s]"
     ]
    },
    {
     "name": "stderr",
     "output_type": "stream",
     "text": [
      "\r  3%|▎         | 33/1200 [00:00<00:29, 40.20it/s]"
     ]
    },
    {
     "name": "stderr",
     "output_type": "stream",
     "text": [
      "\r  3%|▎         | 38/1200 [00:00<00:28, 40.92it/s]"
     ]
    },
    {
     "name": "stderr",
     "output_type": "stream",
     "text": [
      "\r  4%|▎         | 43/1200 [00:01<00:28, 41.19it/s]"
     ]
    },
    {
     "name": "stderr",
     "output_type": "stream",
     "text": [
      "\r  4%|▍         | 47/1200 [00:01<00:34, 33.67it/s]"
     ]
    },
    {
     "name": "stderr",
     "output_type": "stream",
     "text": [
      "\r  4%|▍         | 51/1200 [00:01<00:33, 34.22it/s]"
     ]
    },
    {
     "name": "stderr",
     "output_type": "stream",
     "text": [
      "\r  5%|▍         | 55/1200 [00:01<00:33, 33.91it/s]"
     ]
    },
    {
     "name": "stderr",
     "output_type": "stream",
     "text": [
      "\r  5%|▍         | 59/1200 [00:01<00:34, 33.20it/s]"
     ]
    },
    {
     "name": "stderr",
     "output_type": "stream",
     "text": [
      "\r  5%|▌         | 63/1200 [00:01<00:35, 32.00it/s]"
     ]
    },
    {
     "name": "stderr",
     "output_type": "stream",
     "text": [
      "\r  6%|▌         | 67/1200 [00:01<00:36, 31.35it/s]"
     ]
    },
    {
     "name": "stderr",
     "output_type": "stream",
     "text": [
      "\r  6%|▌         | 71/1200 [00:02<00:38, 29.37it/s]"
     ]
    },
    {
     "name": "stderr",
     "output_type": "stream",
     "text": [
      "\r  6%|▌         | 74/1200 [00:02<00:39, 28.52it/s]"
     ]
    },
    {
     "name": "stderr",
     "output_type": "stream",
     "text": [
      "\r  6%|▋         | 77/1200 [00:02<00:42, 26.44it/s]"
     ]
    },
    {
     "name": "stderr",
     "output_type": "stream",
     "text": [
      "\r  7%|▋         | 81/1200 [00:02<00:41, 27.26it/s]"
     ]
    },
    {
     "name": "stderr",
     "output_type": "stream",
     "text": [
      "\r  7%|▋         | 85/1200 [00:02<00:38, 28.69it/s]"
     ]
    },
    {
     "name": "stderr",
     "output_type": "stream",
     "text": [
      "\r  7%|▋         | 89/1200 [00:02<00:37, 29.90it/s]"
     ]
    },
    {
     "name": "stderr",
     "output_type": "stream",
     "text": [
      "\r  8%|▊         | 93/1200 [00:02<00:35, 31.21it/s]"
     ]
    },
    {
     "name": "stderr",
     "output_type": "stream",
     "text": [
      "\r  8%|▊         | 97/1200 [00:02<00:34, 32.43it/s]"
     ]
    },
    {
     "name": "stderr",
     "output_type": "stream",
     "text": [
      "\r  8%|▊         | 101/1200 [00:02<00:33, 32.59it/s]"
     ]
    },
    {
     "name": "stderr",
     "output_type": "stream",
     "text": [
      "\r  9%|▉         | 105/1200 [00:03<00:33, 33.03it/s]"
     ]
    },
    {
     "name": "stderr",
     "output_type": "stream",
     "text": [
      "\r  9%|▉         | 109/1200 [00:03<00:36, 29.63it/s]"
     ]
    },
    {
     "name": "stderr",
     "output_type": "stream",
     "text": [
      "\r  9%|▉         | 113/1200 [00:03<00:36, 30.14it/s]"
     ]
    },
    {
     "name": "stderr",
     "output_type": "stream",
     "text": [
      "\r 10%|▉         | 117/1200 [00:03<00:34, 31.28it/s]"
     ]
    },
    {
     "name": "stderr",
     "output_type": "stream",
     "text": [
      "\r 10%|█         | 121/1200 [00:03<00:34, 31.10it/s]"
     ]
    },
    {
     "name": "stderr",
     "output_type": "stream",
     "text": [
      "\r 10%|█         | 125/1200 [00:03<00:35, 30.52it/s]"
     ]
    },
    {
     "name": "stderr",
     "output_type": "stream",
     "text": [
      "\r 11%|█         | 129/1200 [00:03<00:36, 29.66it/s]"
     ]
    },
    {
     "name": "stderr",
     "output_type": "stream",
     "text": [
      "\r 11%|█         | 133/1200 [00:04<00:35, 30.17it/s]"
     ]
    },
    {
     "name": "stderr",
     "output_type": "stream",
     "text": [
      "\r 11%|█▏        | 137/1200 [00:04<00:37, 28.25it/s]"
     ]
    },
    {
     "name": "stderr",
     "output_type": "stream",
     "text": [
      "\r 12%|█▏        | 141/1200 [00:04<00:36, 29.34it/s]"
     ]
    },
    {
     "name": "stderr",
     "output_type": "stream",
     "text": [
      "\r 12%|█▏        | 145/1200 [00:04<00:34, 30.53it/s]"
     ]
    },
    {
     "name": "stderr",
     "output_type": "stream",
     "text": [
      "\r 12%|█▏        | 149/1200 [00:04<00:33, 31.49it/s]"
     ]
    },
    {
     "name": "stderr",
     "output_type": "stream",
     "text": [
      "\r 13%|█▎        | 153/1200 [00:04<00:32, 32.06it/s]"
     ]
    },
    {
     "name": "stderr",
     "output_type": "stream",
     "text": [
      "\r 13%|█▎        | 157/1200 [00:04<00:31, 32.77it/s]"
     ]
    },
    {
     "name": "stderr",
     "output_type": "stream",
     "text": [
      "\r 13%|█▎        | 161/1200 [00:04<00:31, 33.22it/s]"
     ]
    },
    {
     "name": "stderr",
     "output_type": "stream",
     "text": [
      "\r 14%|█▍        | 165/1200 [00:05<00:30, 33.44it/s]"
     ]
    },
    {
     "name": "stderr",
     "output_type": "stream",
     "text": [
      "\r 14%|█▍        | 169/1200 [00:05<00:32, 32.00it/s]"
     ]
    },
    {
     "name": "stderr",
     "output_type": "stream",
     "text": [
      "\r 14%|█▍        | 173/1200 [00:05<00:32, 31.38it/s]"
     ]
    },
    {
     "name": "stderr",
     "output_type": "stream",
     "text": [
      "\r 15%|█▍        | 177/1200 [00:05<00:31, 32.81it/s]"
     ]
    },
    {
     "name": "stderr",
     "output_type": "stream",
     "text": [
      "\r 15%|█▌        | 181/1200 [00:05<00:30, 33.42it/s]"
     ]
    },
    {
     "name": "stderr",
     "output_type": "stream",
     "text": [
      "\r 15%|█▌        | 185/1200 [00:05<00:29, 33.85it/s]"
     ]
    },
    {
     "name": "stderr",
     "output_type": "stream",
     "text": [
      "\r 16%|█▌        | 189/1200 [00:05<00:29, 34.50it/s]"
     ]
    },
    {
     "name": "stderr",
     "output_type": "stream",
     "text": [
      "\r 16%|█▌        | 193/1200 [00:05<00:28, 35.59it/s]"
     ]
    },
    {
     "name": "stderr",
     "output_type": "stream",
     "text": [
      "\r 16%|█▋        | 197/1200 [00:05<00:28, 35.72it/s]"
     ]
    },
    {
     "name": "stderr",
     "output_type": "stream",
     "text": [
      "\r 17%|█▋        | 201/1200 [00:06<00:27, 36.05it/s]"
     ]
    },
    {
     "name": "stderr",
     "output_type": "stream",
     "text": [
      "\r 17%|█▋        | 205/1200 [00:06<00:31, 32.04it/s]"
     ]
    },
    {
     "name": "stderr",
     "output_type": "stream",
     "text": [
      "\r 17%|█▋        | 209/1200 [00:06<00:30, 32.91it/s]"
     ]
    },
    {
     "name": "stderr",
     "output_type": "stream",
     "text": [
      "\r 18%|█▊        | 213/1200 [00:06<00:30, 32.88it/s]"
     ]
    },
    {
     "name": "stderr",
     "output_type": "stream",
     "text": [
      "\r 18%|█▊        | 217/1200 [00:06<00:30, 32.37it/s]"
     ]
    },
    {
     "name": "stderr",
     "output_type": "stream",
     "text": [
      "\r 18%|█▊        | 221/1200 [00:06<00:30, 31.58it/s]"
     ]
    },
    {
     "name": "stderr",
     "output_type": "stream",
     "text": [
      "\r 19%|█▉        | 225/1200 [00:06<00:30, 31.61it/s]"
     ]
    },
    {
     "name": "stderr",
     "output_type": "stream",
     "text": [
      "\r 19%|█▉        | 229/1200 [00:06<00:31, 31.16it/s]"
     ]
    },
    {
     "name": "stderr",
     "output_type": "stream",
     "text": [
      "\r 19%|█▉        | 233/1200 [00:07<00:34, 28.22it/s]"
     ]
    },
    {
     "name": "stderr",
     "output_type": "stream",
     "text": [
      "\r 20%|█▉        | 236/1200 [00:07<00:36, 26.32it/s]"
     ]
    },
    {
     "name": "stderr",
     "output_type": "stream",
     "text": [
      "\r 20%|█▉        | 239/1200 [00:07<00:36, 26.67it/s]"
     ]
    },
    {
     "name": "stderr",
     "output_type": "stream",
     "text": [
      "\r 20%|██        | 242/1200 [00:07<00:36, 26.60it/s]"
     ]
    },
    {
     "name": "stderr",
     "output_type": "stream",
     "text": [
      "\r 20%|██        | 245/1200 [00:07<00:36, 26.47it/s]"
     ]
    },
    {
     "name": "stderr",
     "output_type": "stream",
     "text": [
      "\r 21%|██        | 248/1200 [00:07<00:36, 26.04it/s]"
     ]
    },
    {
     "name": "stderr",
     "output_type": "stream",
     "text": [
      "\r 21%|██        | 251/1200 [00:07<00:36, 26.21it/s]"
     ]
    },
    {
     "name": "stderr",
     "output_type": "stream",
     "text": [
      "\r 21%|██        | 254/1200 [00:07<00:35, 26.31it/s]"
     ]
    },
    {
     "name": "stderr",
     "output_type": "stream",
     "text": [
      "\r 21%|██▏       | 257/1200 [00:08<00:35, 26.62it/s]"
     ]
    },
    {
     "name": "stderr",
     "output_type": "stream",
     "text": [
      "\r 22%|██▏       | 260/1200 [00:08<00:38, 24.16it/s]"
     ]
    },
    {
     "name": "stderr",
     "output_type": "stream",
     "text": [
      "\r 22%|██▏       | 263/1200 [00:08<00:37, 24.83it/s]"
     ]
    },
    {
     "name": "stderr",
     "output_type": "stream",
     "text": [
      "\r 22%|██▏       | 266/1200 [00:08<00:36, 25.77it/s]"
     ]
    },
    {
     "name": "stderr",
     "output_type": "stream",
     "text": [
      "\r 22%|██▏       | 269/1200 [00:08<00:34, 26.87it/s]"
     ]
    },
    {
     "name": "stderr",
     "output_type": "stream",
     "text": [
      "\r 23%|██▎       | 273/1200 [00:08<00:33, 27.99it/s]"
     ]
    },
    {
     "name": "stderr",
     "output_type": "stream",
     "text": [
      "\r 23%|██▎       | 277/1200 [00:08<00:31, 29.09it/s]"
     ]
    },
    {
     "name": "stderr",
     "output_type": "stream",
     "text": [
      "\r 23%|██▎       | 280/1200 [00:08<00:31, 28.98it/s]"
     ]
    },
    {
     "name": "stderr",
     "output_type": "stream",
     "text": [
      "\r 24%|██▎       | 283/1200 [00:09<00:31, 29.18it/s]"
     ]
    },
    {
     "name": "stderr",
     "output_type": "stream",
     "text": [
      "\r 24%|██▍       | 286/1200 [00:09<00:33, 27.61it/s]"
     ]
    },
    {
     "name": "stderr",
     "output_type": "stream",
     "text": [
      "\r 24%|██▍       | 289/1200 [00:09<00:35, 25.97it/s]"
     ]
    },
    {
     "name": "stderr",
     "output_type": "stream",
     "text": [
      "\r 24%|██▍       | 292/1200 [00:09<00:34, 26.05it/s]"
     ]
    },
    {
     "name": "stderr",
     "output_type": "stream",
     "text": [
      "\r 25%|██▍       | 295/1200 [00:09<00:33, 27.04it/s]"
     ]
    },
    {
     "name": "stderr",
     "output_type": "stream",
     "text": [
      "\r 25%|██▍       | 298/1200 [00:09<00:32, 27.38it/s]"
     ]
    },
    {
     "name": "stderr",
     "output_type": "stream",
     "text": [
      "\r 25%|██▌       | 302/1200 [00:09<00:31, 28.71it/s]"
     ]
    },
    {
     "name": "stderr",
     "output_type": "stream",
     "text": [
      "\r 26%|██▌       | 306/1200 [00:09<00:30, 29.80it/s]"
     ]
    },
    {
     "name": "stderr",
     "output_type": "stream",
     "text": [
      "\r 26%|██▌       | 310/1200 [00:09<00:29, 30.60it/s]"
     ]
    },
    {
     "name": "stderr",
     "output_type": "stream",
     "text": [
      "\r 26%|██▌       | 314/1200 [00:10<00:28, 31.61it/s]"
     ]
    },
    {
     "name": "stderr",
     "output_type": "stream",
     "text": [
      "\r 26%|██▋       | 318/1200 [00:10<00:29, 29.79it/s]"
     ]
    },
    {
     "name": "stderr",
     "output_type": "stream",
     "text": [
      "\r 27%|██▋       | 322/1200 [00:10<00:28, 30.61it/s]"
     ]
    },
    {
     "name": "stderr",
     "output_type": "stream",
     "text": [
      "\r 27%|██▋       | 326/1200 [00:10<00:27, 31.67it/s]"
     ]
    },
    {
     "name": "stderr",
     "output_type": "stream",
     "text": [
      "\r 28%|██▊       | 330/1200 [00:10<00:26, 32.30it/s]"
     ]
    },
    {
     "name": "stderr",
     "output_type": "stream",
     "text": [
      "\r 28%|██▊       | 334/1200 [00:10<00:25, 33.50it/s]"
     ]
    },
    {
     "name": "stderr",
     "output_type": "stream",
     "text": [
      "\r 28%|██▊       | 338/1200 [00:10<00:25, 33.95it/s]"
     ]
    },
    {
     "name": "stderr",
     "output_type": "stream",
     "text": [
      "\r 28%|██▊       | 342/1200 [00:10<00:26, 32.43it/s]"
     ]
    },
    {
     "name": "stderr",
     "output_type": "stream",
     "text": [
      "\r 29%|██▉       | 346/1200 [00:11<00:26, 32.76it/s]"
     ]
    },
    {
     "name": "stderr",
     "output_type": "stream",
     "text": [
      "\r 29%|██▉       | 350/1200 [00:11<00:28, 30.33it/s]"
     ]
    },
    {
     "name": "stderr",
     "output_type": "stream",
     "text": [
      "\r 30%|██▉       | 354/1200 [00:11<00:28, 29.20it/s]"
     ]
    },
    {
     "name": "stderr",
     "output_type": "stream",
     "text": [
      "\r 30%|██▉       | 358/1200 [00:11<00:28, 29.79it/s]"
     ]
    },
    {
     "name": "stderr",
     "output_type": "stream",
     "text": [
      "\r 30%|███       | 362/1200 [00:11<00:27, 30.26it/s]"
     ]
    },
    {
     "name": "stderr",
     "output_type": "stream",
     "text": [
      "\r 30%|███       | 366/1200 [00:11<00:29, 28.47it/s]"
     ]
    },
    {
     "name": "stderr",
     "output_type": "stream",
     "text": [
      "\r 31%|███       | 369/1200 [00:11<00:30, 27.67it/s]"
     ]
    },
    {
     "name": "stderr",
     "output_type": "stream",
     "text": [
      "\r 31%|███       | 372/1200 [00:12<00:29, 28.11it/s]"
     ]
    },
    {
     "name": "stderr",
     "output_type": "stream",
     "text": [
      "\r 31%|███▏      | 375/1200 [00:12<00:30, 26.74it/s]"
     ]
    },
    {
     "name": "stderr",
     "output_type": "stream",
     "text": [
      "\r 32%|███▏      | 378/1200 [00:12<00:33, 24.90it/s]"
     ]
    },
    {
     "name": "stderr",
     "output_type": "stream",
     "text": [
      "\r 32%|███▏      | 381/1200 [00:12<00:31, 25.83it/s]"
     ]
    },
    {
     "name": "stderr",
     "output_type": "stream",
     "text": [
      "\r 32%|███▏      | 384/1200 [00:12<00:30, 26.77it/s]"
     ]
    },
    {
     "name": "stderr",
     "output_type": "stream",
     "text": [
      "\r 32%|███▏      | 388/1200 [00:12<00:29, 27.98it/s]"
     ]
    },
    {
     "name": "stderr",
     "output_type": "stream",
     "text": [
      "\r 33%|███▎      | 392/1200 [00:12<00:28, 28.63it/s]"
     ]
    },
    {
     "name": "stderr",
     "output_type": "stream",
     "text": [
      "\r 33%|███▎      | 395/1200 [00:12<00:27, 28.76it/s]"
     ]
    },
    {
     "name": "stderr",
     "output_type": "stream",
     "text": [
      "\r 33%|███▎      | 398/1200 [00:12<00:29, 27.22it/s]"
     ]
    },
    {
     "name": "stderr",
     "output_type": "stream",
     "text": [
      "\r 34%|███▎      | 402/1200 [00:13<00:28, 27.94it/s]"
     ]
    },
    {
     "name": "stderr",
     "output_type": "stream",
     "text": [
      "\r 34%|███▍      | 405/1200 [00:13<00:31, 25.14it/s]"
     ]
    },
    {
     "name": "stderr",
     "output_type": "stream",
     "text": [
      "\r 34%|███▍      | 408/1200 [00:13<00:30, 26.25it/s]"
     ]
    },
    {
     "name": "stderr",
     "output_type": "stream",
     "text": [
      "\r 34%|███▍      | 411/1200 [00:13<00:30, 25.46it/s]"
     ]
    },
    {
     "name": "stderr",
     "output_type": "stream",
     "text": [
      "\r 34%|███▍      | 414/1200 [00:13<00:30, 26.10it/s]"
     ]
    },
    {
     "name": "stderr",
     "output_type": "stream",
     "text": [
      "\r 35%|███▍      | 417/1200 [00:13<00:30, 26.08it/s]"
     ]
    },
    {
     "name": "stderr",
     "output_type": "stream",
     "text": [
      "\r 35%|███▌      | 420/1200 [00:13<00:29, 26.88it/s]"
     ]
    },
    {
     "name": "stderr",
     "output_type": "stream",
     "text": [
      "\r 35%|███▌      | 423/1200 [00:13<00:28, 27.16it/s]"
     ]
    },
    {
     "name": "stderr",
     "output_type": "stream",
     "text": [
      "\r 36%|███▌      | 426/1200 [00:14<00:28, 26.97it/s]"
     ]
    },
    {
     "name": "stderr",
     "output_type": "stream",
     "text": [
      "\r 36%|███▌      | 429/1200 [00:14<00:30, 25.64it/s]"
     ]
    },
    {
     "name": "stderr",
     "output_type": "stream",
     "text": [
      "\r 36%|███▌      | 432/1200 [00:14<00:33, 23.27it/s]"
     ]
    },
    {
     "name": "stderr",
     "output_type": "stream",
     "text": [
      "\r 36%|███▋      | 435/1200 [00:14<00:32, 23.67it/s]"
     ]
    },
    {
     "name": "stderr",
     "output_type": "stream",
     "text": [
      "\r 36%|███▋      | 438/1200 [00:14<00:31, 24.33it/s]"
     ]
    },
    {
     "name": "stderr",
     "output_type": "stream",
     "text": [
      "\r 37%|███▋      | 441/1200 [00:14<00:31, 24.45it/s]"
     ]
    },
    {
     "name": "stderr",
     "output_type": "stream",
     "text": [
      "\r 37%|███▋      | 444/1200 [00:14<00:30, 24.70it/s]"
     ]
    },
    {
     "name": "stderr",
     "output_type": "stream",
     "text": [
      "\r 37%|███▋      | 447/1200 [00:14<00:32, 23.12it/s]"
     ]
    },
    {
     "name": "stderr",
     "output_type": "stream",
     "text": [
      "\r 38%|███▊      | 450/1200 [00:15<00:41, 18.20it/s]"
     ]
    },
    {
     "name": "stderr",
     "output_type": "stream",
     "text": [
      "\r 38%|███▊      | 453/1200 [00:15<00:42, 17.65it/s]"
     ]
    },
    {
     "name": "stderr",
     "output_type": "stream",
     "text": [
      "\r 38%|███▊      | 455/1200 [00:15<00:41, 17.97it/s]"
     ]
    },
    {
     "name": "stderr",
     "output_type": "stream",
     "text": [
      "\r 38%|███▊      | 458/1200 [00:15<00:40, 18.45it/s]"
     ]
    },
    {
     "name": "stderr",
     "output_type": "stream",
     "text": [
      "\r 38%|███▊      | 460/1200 [00:15<00:46, 16.07it/s]"
     ]
    },
    {
     "name": "stderr",
     "output_type": "stream",
     "text": [
      "\r 38%|███▊      | 462/1200 [00:15<00:44, 16.60it/s]"
     ]
    },
    {
     "name": "stderr",
     "output_type": "stream",
     "text": [
      "\r 39%|███▉      | 465/1200 [00:16<00:40, 18.16it/s]"
     ]
    },
    {
     "name": "stderr",
     "output_type": "stream",
     "text": [
      "\r 39%|███▉      | 467/1200 [00:16<00:40, 18.06it/s]"
     ]
    },
    {
     "name": "stderr",
     "output_type": "stream",
     "text": [
      "\r 39%|███▉      | 469/1200 [00:16<00:42, 17.16it/s]"
     ]
    },
    {
     "name": "stderr",
     "output_type": "stream",
     "text": [
      "\r 39%|███▉      | 472/1200 [00:16<00:40, 18.12it/s]"
     ]
    },
    {
     "name": "stderr",
     "output_type": "stream",
     "text": [
      "\r 40%|███▉      | 475/1200 [00:16<00:36, 19.97it/s]"
     ]
    },
    {
     "name": "stderr",
     "output_type": "stream",
     "text": [
      "\r 40%|███▉      | 478/1200 [00:16<00:34, 21.11it/s]"
     ]
    },
    {
     "name": "stderr",
     "output_type": "stream",
     "text": [
      "\r 40%|████      | 481/1200 [00:16<00:31, 22.57it/s]"
     ]
    },
    {
     "name": "stderr",
     "output_type": "stream",
     "text": [
      "\r 40%|████      | 485/1200 [00:16<00:29, 24.20it/s]"
     ]
    },
    {
     "name": "stderr",
     "output_type": "stream",
     "text": [
      "\r 41%|████      | 488/1200 [00:17<00:28, 24.81it/s]"
     ]
    },
    {
     "name": "stderr",
     "output_type": "stream",
     "text": [
      "\r 41%|████      | 491/1200 [00:17<00:27, 26.13it/s]"
     ]
    },
    {
     "name": "stderr",
     "output_type": "stream",
     "text": [
      "\r 41%|████      | 494/1200 [00:17<00:28, 24.75it/s]"
     ]
    },
    {
     "name": "stderr",
     "output_type": "stream",
     "text": [
      "\r 42%|████▏     | 498/1200 [00:17<00:26, 26.28it/s]"
     ]
    },
    {
     "name": "stderr",
     "output_type": "stream",
     "text": [
      "\r 42%|████▏     | 502/1200 [00:17<00:25, 26.91it/s]"
     ]
    },
    {
     "name": "stderr",
     "output_type": "stream",
     "text": [
      "\r 42%|████▏     | 506/1200 [00:17<00:24, 27.89it/s]"
     ]
    },
    {
     "name": "stderr",
     "output_type": "stream",
     "text": [
      "\r 42%|████▏     | 509/1200 [00:17<00:25, 26.78it/s]"
     ]
    },
    {
     "name": "stderr",
     "output_type": "stream",
     "text": [
      "\r 43%|████▎     | 513/1200 [00:17<00:24, 27.73it/s]"
     ]
    },
    {
     "name": "stderr",
     "output_type": "stream",
     "text": [
      "\r 43%|████▎     | 516/1200 [00:18<00:24, 27.98it/s]"
     ]
    },
    {
     "name": "stderr",
     "output_type": "stream",
     "text": [
      "\r 43%|████▎     | 519/1200 [00:18<00:24, 28.12it/s]"
     ]
    },
    {
     "name": "stderr",
     "output_type": "stream",
     "text": [
      "\r 44%|████▎     | 522/1200 [00:18<00:25, 26.39it/s]"
     ]
    },
    {
     "name": "stderr",
     "output_type": "stream",
     "text": [
      "\r 44%|████▍     | 525/1200 [00:18<00:25, 26.94it/s]"
     ]
    },
    {
     "name": "stderr",
     "output_type": "stream",
     "text": [
      "\r 44%|████▍     | 529/1200 [00:18<00:23, 28.50it/s]"
     ]
    },
    {
     "name": "stderr",
     "output_type": "stream",
     "text": [
      "\r 44%|████▍     | 532/1200 [00:18<00:23, 28.05it/s]"
     ]
    },
    {
     "name": "stderr",
     "output_type": "stream",
     "text": [
      "\r 45%|████▍     | 535/1200 [00:18<00:25, 25.89it/s]"
     ]
    },
    {
     "name": "stderr",
     "output_type": "stream",
     "text": [
      "\r 45%|████▍     | 538/1200 [00:18<00:25, 25.59it/s]"
     ]
    },
    {
     "name": "stderr",
     "output_type": "stream",
     "text": [
      "\r 45%|████▌     | 541/1200 [00:18<00:25, 25.62it/s]"
     ]
    },
    {
     "name": "stderr",
     "output_type": "stream",
     "text": [
      "\r 45%|████▌     | 545/1200 [00:19<00:23, 27.38it/s]"
     ]
    },
    {
     "name": "stderr",
     "output_type": "stream",
     "text": [
      "\r 46%|████▌     | 548/1200 [00:19<00:23, 27.84it/s]"
     ]
    },
    {
     "name": "stderr",
     "output_type": "stream",
     "text": [
      "\r 46%|████▌     | 551/1200 [00:19<00:24, 26.15it/s]"
     ]
    },
    {
     "name": "stderr",
     "output_type": "stream",
     "text": [
      "\r 46%|████▋     | 555/1200 [00:19<00:23, 27.93it/s]"
     ]
    },
    {
     "name": "stderr",
     "output_type": "stream",
     "text": [
      "\r 47%|████▋     | 559/1200 [00:19<00:21, 29.97it/s]"
     ]
    },
    {
     "name": "stderr",
     "output_type": "stream",
     "text": [
      "\r 47%|████▋     | 563/1200 [00:19<00:21, 29.22it/s]"
     ]
    },
    {
     "name": "stderr",
     "output_type": "stream",
     "text": [
      "\r 47%|████▋     | 567/1200 [00:19<00:20, 30.91it/s]"
     ]
    },
    {
     "name": "stderr",
     "output_type": "stream",
     "text": [
      "\r 48%|████▊     | 571/1200 [00:19<00:19, 31.91it/s]"
     ]
    },
    {
     "name": "stderr",
     "output_type": "stream",
     "text": [
      "\r 48%|████▊     | 575/1200 [00:20<00:18, 33.02it/s]"
     ]
    },
    {
     "name": "stderr",
     "output_type": "stream",
     "text": [
      "\r 48%|████▊     | 579/1200 [00:20<00:19, 32.67it/s]"
     ]
    },
    {
     "name": "stderr",
     "output_type": "stream",
     "text": [
      "\r 49%|████▊     | 583/1200 [00:20<00:19, 31.31it/s]"
     ]
    },
    {
     "name": "stderr",
     "output_type": "stream",
     "text": [
      "\r 49%|████▉     | 587/1200 [00:20<00:18, 32.92it/s]"
     ]
    },
    {
     "name": "stderr",
     "output_type": "stream",
     "text": [
      "\r 49%|████▉     | 591/1200 [00:20<00:18, 33.24it/s]"
     ]
    },
    {
     "name": "stderr",
     "output_type": "stream",
     "text": [
      "\r 50%|████▉     | 595/1200 [00:20<00:17, 34.44it/s]"
     ]
    },
    {
     "name": "stderr",
     "output_type": "stream",
     "text": [
      "\r 50%|█████     | 600/1200 [00:20<00:16, 35.62it/s]"
     ]
    },
    {
     "name": "stderr",
     "output_type": "stream",
     "text": [
      "\r 50%|█████     | 604/1200 [00:20<00:16, 35.97it/s]"
     ]
    },
    {
     "name": "stderr",
     "output_type": "stream",
     "text": [
      "\r 51%|█████     | 608/1200 [00:20<00:16, 35.50it/s]"
     ]
    },
    {
     "name": "stderr",
     "output_type": "stream",
     "text": [
      "\r 51%|█████     | 612/1200 [00:21<00:16, 35.52it/s]"
     ]
    },
    {
     "name": "stderr",
     "output_type": "stream",
     "text": [
      "\r 51%|█████▏    | 616/1200 [00:21<00:18, 31.20it/s]"
     ]
    },
    {
     "name": "stderr",
     "output_type": "stream",
     "text": [
      "\r 52%|█████▏    | 620/1200 [00:21<00:17, 32.29it/s]"
     ]
    },
    {
     "name": "stderr",
     "output_type": "stream",
     "text": [
      "\r 52%|█████▏    | 624/1200 [00:21<00:18, 31.69it/s]"
     ]
    },
    {
     "name": "stderr",
     "output_type": "stream",
     "text": [
      "\r 52%|█████▏    | 628/1200 [00:21<00:18, 31.56it/s]"
     ]
    },
    {
     "name": "stderr",
     "output_type": "stream",
     "text": [
      "\r 53%|█████▎    | 632/1200 [00:21<00:18, 30.61it/s]"
     ]
    },
    {
     "name": "stderr",
     "output_type": "stream",
     "text": [
      "\r 53%|█████▎    | 636/1200 [00:21<00:18, 31.14it/s]"
     ]
    },
    {
     "name": "stderr",
     "output_type": "stream",
     "text": [
      "\r 53%|█████▎    | 640/1200 [00:22<00:17, 31.94it/s]"
     ]
    },
    {
     "name": "stderr",
     "output_type": "stream",
     "text": [
      "\r 54%|█████▎    | 644/1200 [00:22<00:17, 31.27it/s]"
     ]
    },
    {
     "name": "stderr",
     "output_type": "stream",
     "text": [
      "\r 54%|█████▍    | 648/1200 [00:22<00:18, 29.53it/s]"
     ]
    },
    {
     "name": "stderr",
     "output_type": "stream",
     "text": [
      "\r 54%|█████▍    | 651/1200 [00:22<00:18, 28.90it/s]"
     ]
    },
    {
     "name": "stderr",
     "output_type": "stream",
     "text": [
      "\r 55%|█████▍    | 654/1200 [00:22<00:20, 26.48it/s]"
     ]
    },
    {
     "name": "stderr",
     "output_type": "stream",
     "text": [
      "\r 55%|█████▍    | 658/1200 [00:22<00:19, 27.46it/s]"
     ]
    },
    {
     "name": "stderr",
     "output_type": "stream",
     "text": [
      "\r 55%|█████▌    | 661/1200 [00:22<00:20, 26.56it/s]"
     ]
    },
    {
     "name": "stderr",
     "output_type": "stream",
     "text": [
      "\r 55%|█████▌    | 664/1200 [00:22<00:20, 26.76it/s]"
     ]
    },
    {
     "name": "stderr",
     "output_type": "stream",
     "text": [
      "\r 56%|█████▌    | 668/1200 [00:23<00:19, 27.77it/s]"
     ]
    },
    {
     "name": "stderr",
     "output_type": "stream",
     "text": [
      "\r 56%|█████▌    | 671/1200 [00:23<00:27, 19.30it/s]"
     ]
    },
    {
     "name": "stderr",
     "output_type": "stream",
     "text": [
      "\r 56%|█████▋    | 675/1200 [00:23<00:23, 22.03it/s]"
     ]
    },
    {
     "name": "stderr",
     "output_type": "stream",
     "text": [
      "\r 57%|█████▋    | 679/1200 [00:23<00:21, 24.74it/s]"
     ]
    },
    {
     "name": "stderr",
     "output_type": "stream",
     "text": [
      "\r 57%|█████▋    | 682/1200 [00:23<00:19, 26.02it/s]"
     ]
    },
    {
     "name": "stderr",
     "output_type": "stream",
     "text": [
      "\r 57%|█████▋    | 685/1200 [00:23<00:19, 26.33it/s]"
     ]
    },
    {
     "name": "stderr",
     "output_type": "stream",
     "text": [
      "\r 57%|█████▋    | 688/1200 [00:23<00:20, 25.51it/s]"
     ]
    },
    {
     "name": "stderr",
     "output_type": "stream",
     "text": [
      "\r 58%|█████▊    | 691/1200 [00:24<00:20, 24.43it/s]"
     ]
    },
    {
     "name": "stderr",
     "output_type": "stream",
     "text": [
      "\r 58%|█████▊    | 694/1200 [00:24<00:21, 23.97it/s]"
     ]
    },
    {
     "name": "stderr",
     "output_type": "stream",
     "text": [
      "\r 58%|█████▊    | 697/1200 [00:24<00:20, 24.26it/s]"
     ]
    },
    {
     "name": "stderr",
     "output_type": "stream",
     "text": [
      "\r 58%|█████▊    | 700/1200 [00:24<00:20, 24.94it/s]"
     ]
    },
    {
     "name": "stderr",
     "output_type": "stream",
     "text": [
      "\r 59%|█████▊    | 703/1200 [00:24<00:18, 26.19it/s]"
     ]
    },
    {
     "name": "stderr",
     "output_type": "stream",
     "text": [
      "\r 59%|█████▉    | 707/1200 [00:24<00:17, 28.39it/s]"
     ]
    },
    {
     "name": "stderr",
     "output_type": "stream",
     "text": [
      "\r 59%|█████▉    | 711/1200 [00:24<00:16, 29.67it/s]"
     ]
    },
    {
     "name": "stderr",
     "output_type": "stream",
     "text": [
      "\r 60%|█████▉    | 715/1200 [00:24<00:16, 28.75it/s]"
     ]
    },
    {
     "name": "stderr",
     "output_type": "stream",
     "text": [
      "\r 60%|█████▉    | 719/1200 [00:24<00:16, 29.87it/s]"
     ]
    },
    {
     "name": "stderr",
     "output_type": "stream",
     "text": [
      "\r 60%|██████    | 723/1200 [00:25<00:16, 29.18it/s]"
     ]
    },
    {
     "name": "stderr",
     "output_type": "stream",
     "text": [
      "\r 60%|██████    | 726/1200 [00:25<00:17, 27.55it/s]"
     ]
    },
    {
     "name": "stderr",
     "output_type": "stream",
     "text": [
      "\r 61%|██████    | 729/1200 [00:25<00:17, 27.57it/s]"
     ]
    },
    {
     "name": "stderr",
     "output_type": "stream",
     "text": [
      "\r 61%|██████    | 733/1200 [00:25<00:16, 28.91it/s]"
     ]
    },
    {
     "name": "stderr",
     "output_type": "stream",
     "text": [
      "\r 61%|██████▏   | 736/1200 [00:25<00:16, 28.11it/s]"
     ]
    },
    {
     "name": "stderr",
     "output_type": "stream",
     "text": [
      "\r 62%|██████▏   | 739/1200 [00:25<00:16, 28.13it/s]"
     ]
    },
    {
     "name": "stderr",
     "output_type": "stream",
     "text": [
      "\r 62%|██████▏   | 742/1200 [00:25<00:16, 28.60it/s]"
     ]
    },
    {
     "name": "stderr",
     "output_type": "stream",
     "text": [
      "\r 62%|██████▏   | 746/1200 [00:25<00:15, 29.56it/s]"
     ]
    },
    {
     "name": "stderr",
     "output_type": "stream",
     "text": [
      "\r 62%|██████▎   | 750/1200 [00:26<00:14, 30.35it/s]"
     ]
    },
    {
     "name": "stderr",
     "output_type": "stream",
     "text": [
      "\r 63%|██████▎   | 754/1200 [00:26<00:14, 29.82it/s]"
     ]
    },
    {
     "name": "stderr",
     "output_type": "stream",
     "text": [
      "\r 63%|██████▎   | 757/1200 [00:26<00:16, 27.44it/s]"
     ]
    },
    {
     "name": "stderr",
     "output_type": "stream",
     "text": [
      "\r 63%|██████▎   | 761/1200 [00:26<00:15, 28.79it/s]"
     ]
    },
    {
     "name": "stderr",
     "output_type": "stream",
     "text": [
      "\r 64%|██████▎   | 764/1200 [00:26<00:16, 27.22it/s]"
     ]
    },
    {
     "name": "stderr",
     "output_type": "stream",
     "text": [
      "\r 64%|██████▍   | 768/1200 [00:26<00:15, 28.65it/s]"
     ]
    },
    {
     "name": "stderr",
     "output_type": "stream",
     "text": [
      "\r 64%|██████▍   | 772/1200 [00:26<00:14, 28.97it/s]"
     ]
    },
    {
     "name": "stderr",
     "output_type": "stream",
     "text": [
      "\r 65%|██████▍   | 775/1200 [00:26<00:14, 28.52it/s]"
     ]
    },
    {
     "name": "stderr",
     "output_type": "stream",
     "text": [
      "\r 65%|██████▍   | 778/1200 [00:27<00:15, 27.88it/s]"
     ]
    },
    {
     "name": "stderr",
     "output_type": "stream",
     "text": [
      "\r 65%|██████▌   | 782/1200 [00:27<00:14, 28.80it/s]"
     ]
    },
    {
     "name": "stderr",
     "output_type": "stream",
     "text": [
      "\r 65%|██████▌   | 785/1200 [00:27<00:15, 26.64it/s]"
     ]
    },
    {
     "name": "stderr",
     "output_type": "stream",
     "text": [
      "\r 66%|██████▌   | 789/1200 [00:27<00:14, 27.97it/s]"
     ]
    },
    {
     "name": "stderr",
     "output_type": "stream",
     "text": [
      "\r 66%|██████▌   | 792/1200 [00:27<00:14, 28.52it/s]"
     ]
    },
    {
     "name": "stderr",
     "output_type": "stream",
     "text": [
      "\r 66%|██████▋   | 796/1200 [00:27<00:13, 28.93it/s]"
     ]
    },
    {
     "name": "stderr",
     "output_type": "stream",
     "text": [
      "\r 67%|██████▋   | 799/1200 [00:27<00:13, 29.13it/s]"
     ]
    },
    {
     "name": "stderr",
     "output_type": "stream",
     "text": [
      "\r 67%|██████▋   | 802/1200 [00:27<00:13, 28.78it/s]"
     ]
    },
    {
     "name": "stderr",
     "output_type": "stream",
     "text": [
      "\r 67%|██████▋   | 805/1200 [00:27<00:13, 28.67it/s]"
     ]
    },
    {
     "name": "stderr",
     "output_type": "stream",
     "text": [
      "\r 67%|██████▋   | 808/1200 [00:28<00:14, 27.11it/s]"
     ]
    },
    {
     "name": "stderr",
     "output_type": "stream",
     "text": [
      "\r 68%|██████▊   | 811/1200 [00:28<00:16, 24.17it/s]"
     ]
    },
    {
     "name": "stderr",
     "output_type": "stream",
     "text": [
      "\r 68%|██████▊   | 814/1200 [00:28<00:15, 24.82it/s]"
     ]
    },
    {
     "name": "stderr",
     "output_type": "stream",
     "text": [
      "\r 68%|██████▊   | 817/1200 [00:28<00:15, 25.03it/s]"
     ]
    },
    {
     "name": "stderr",
     "output_type": "stream",
     "text": [
      "\r 68%|██████▊   | 820/1200 [00:28<00:14, 25.41it/s]"
     ]
    },
    {
     "name": "stderr",
     "output_type": "stream",
     "text": [
      "\r 69%|██████▊   | 823/1200 [00:28<00:15, 24.76it/s]"
     ]
    },
    {
     "name": "stderr",
     "output_type": "stream",
     "text": [
      "\r 69%|██████▉   | 826/1200 [00:28<00:14, 25.92it/s]"
     ]
    },
    {
     "name": "stderr",
     "output_type": "stream",
     "text": [
      "\r 69%|██████▉   | 830/1200 [00:28<00:12, 28.87it/s]"
     ]
    },
    {
     "name": "stderr",
     "output_type": "stream",
     "text": [
      "\r 70%|██████▉   | 834/1200 [00:29<00:12, 28.93it/s]"
     ]
    },
    {
     "name": "stderr",
     "output_type": "stream",
     "text": [
      "\r 70%|██████▉   | 838/1200 [00:29<00:12, 28.54it/s]"
     ]
    },
    {
     "name": "stderr",
     "output_type": "stream",
     "text": [
      "\r 70%|███████   | 841/1200 [00:29<00:12, 27.89it/s]"
     ]
    },
    {
     "name": "stderr",
     "output_type": "stream",
     "text": [
      "\r 70%|███████   | 845/1200 [00:29<00:12, 29.02it/s]"
     ]
    },
    {
     "name": "stderr",
     "output_type": "stream",
     "text": [
      "\r 71%|███████   | 848/1200 [00:29<00:12, 29.07it/s]"
     ]
    },
    {
     "name": "stderr",
     "output_type": "stream",
     "text": [
      "\r 71%|███████   | 852/1200 [00:29<00:11, 29.78it/s]"
     ]
    },
    {
     "name": "stderr",
     "output_type": "stream",
     "text": [
      "\r 71%|███████▏  | 856/1200 [00:29<00:11, 29.75it/s]"
     ]
    },
    {
     "name": "stderr",
     "output_type": "stream",
     "text": [
      "\r 72%|███████▏  | 859/1200 [00:29<00:12, 28.17it/s]"
     ]
    },
    {
     "name": "stderr",
     "output_type": "stream",
     "text": [
      "\r 72%|███████▏  | 862/1200 [00:30<00:12, 26.76it/s]"
     ]
    },
    {
     "name": "stderr",
     "output_type": "stream",
     "text": [
      "\r 72%|███████▏  | 865/1200 [00:30<00:12, 25.81it/s]"
     ]
    },
    {
     "name": "stderr",
     "output_type": "stream",
     "text": [
      "\r 72%|███████▏  | 868/1200 [00:30<00:12, 25.70it/s]"
     ]
    },
    {
     "name": "stderr",
     "output_type": "stream",
     "text": [
      "\r 73%|███████▎  | 871/1200 [00:30<00:12, 25.55it/s]"
     ]
    },
    {
     "name": "stderr",
     "output_type": "stream",
     "text": [
      "\r 73%|███████▎  | 874/1200 [00:30<00:12, 26.03it/s]"
     ]
    },
    {
     "name": "stderr",
     "output_type": "stream",
     "text": [
      "\r 73%|███████▎  | 877/1200 [00:30<00:13, 24.65it/s]"
     ]
    },
    {
     "name": "stderr",
     "output_type": "stream",
     "text": [
      "\r 73%|███████▎  | 880/1200 [00:30<00:12, 25.04it/s]"
     ]
    },
    {
     "name": "stderr",
     "output_type": "stream",
     "text": [
      "\r 74%|███████▎  | 883/1200 [00:30<00:12, 26.22it/s]"
     ]
    },
    {
     "name": "stderr",
     "output_type": "stream",
     "text": [
      "\r 74%|███████▍  | 887/1200 [00:31<00:11, 27.65it/s]"
     ]
    },
    {
     "name": "stderr",
     "output_type": "stream",
     "text": [
      "\r 74%|███████▍  | 890/1200 [00:31<00:11, 27.98it/s]"
     ]
    },
    {
     "name": "stderr",
     "output_type": "stream",
     "text": [
      "\r 74%|███████▍  | 893/1200 [00:31<00:11, 27.32it/s]"
     ]
    },
    {
     "name": "stderr",
     "output_type": "stream",
     "text": [
      "\r 75%|███████▍  | 896/1200 [00:31<00:10, 27.64it/s]"
     ]
    },
    {
     "name": "stderr",
     "output_type": "stream",
     "text": [
      "\r 75%|███████▍  | 899/1200 [00:31<00:10, 28.22it/s]"
     ]
    },
    {
     "name": "stderr",
     "output_type": "stream",
     "text": [
      "\r 75%|███████▌  | 902/1200 [00:31<00:10, 28.63it/s]"
     ]
    },
    {
     "name": "stderr",
     "output_type": "stream",
     "text": [
      "\r 76%|███████▌  | 906/1200 [00:31<00:09, 29.50it/s]"
     ]
    },
    {
     "name": "stderr",
     "output_type": "stream",
     "text": [
      "\r 76%|███████▌  | 910/1200 [00:31<00:09, 30.17it/s]"
     ]
    },
    {
     "name": "stderr",
     "output_type": "stream",
     "text": [
      "\r 76%|███████▌  | 914/1200 [00:31<00:09, 31.11it/s]"
     ]
    },
    {
     "name": "stderr",
     "output_type": "stream",
     "text": [
      "\r 76%|███████▋  | 918/1200 [00:32<00:08, 31.57it/s]"
     ]
    },
    {
     "name": "stderr",
     "output_type": "stream",
     "text": [
      "\r 77%|███████▋  | 922/1200 [00:32<00:09, 30.59it/s]"
     ]
    },
    {
     "name": "stderr",
     "output_type": "stream",
     "text": [
      "\r 77%|███████▋  | 926/1200 [00:32<00:09, 28.06it/s]"
     ]
    },
    {
     "name": "stderr",
     "output_type": "stream",
     "text": [
      "\r 78%|███████▊  | 930/1200 [00:32<00:08, 30.14it/s]"
     ]
    },
    {
     "name": "stderr",
     "output_type": "stream",
     "text": [
      "\r 78%|███████▊  | 934/1200 [00:32<00:09, 28.54it/s]"
     ]
    },
    {
     "name": "stderr",
     "output_type": "stream",
     "text": [
      "\r 78%|███████▊  | 938/1200 [00:32<00:08, 29.49it/s]"
     ]
    },
    {
     "name": "stderr",
     "output_type": "stream",
     "text": [
      "\r 78%|███████▊  | 942/1200 [00:32<00:08, 30.48it/s]"
     ]
    },
    {
     "name": "stderr",
     "output_type": "stream",
     "text": [
      "\r 79%|███████▉  | 946/1200 [00:32<00:07, 32.01it/s]"
     ]
    },
    {
     "name": "stderr",
     "output_type": "stream",
     "text": [
      "\r 79%|███████▉  | 950/1200 [00:33<00:07, 31.33it/s]"
     ]
    },
    {
     "name": "stderr",
     "output_type": "stream",
     "text": [
      "\r 80%|███████▉  | 954/1200 [00:33<00:08, 29.98it/s]"
     ]
    },
    {
     "name": "stderr",
     "output_type": "stream",
     "text": [
      "\r 80%|███████▉  | 958/1200 [00:33<00:07, 31.48it/s]"
     ]
    },
    {
     "name": "stderr",
     "output_type": "stream",
     "text": [
      "\r 80%|████████  | 962/1200 [00:33<00:07, 32.38it/s]"
     ]
    },
    {
     "name": "stderr",
     "output_type": "stream",
     "text": [
      "\r 80%|████████  | 966/1200 [00:33<00:07, 33.37it/s]"
     ]
    },
    {
     "name": "stderr",
     "output_type": "stream",
     "text": [
      "\r 81%|████████  | 971/1200 [00:33<00:06, 35.32it/s]"
     ]
    },
    {
     "name": "stderr",
     "output_type": "stream",
     "text": [
      "\r 81%|████████▏ | 975/1200 [00:33<00:06, 35.42it/s]"
     ]
    },
    {
     "name": "stderr",
     "output_type": "stream",
     "text": [
      "\r 82%|████████▏ | 979/1200 [00:33<00:06, 33.17it/s]"
     ]
    },
    {
     "name": "stderr",
     "output_type": "stream",
     "text": [
      "\r 82%|████████▏ | 983/1200 [00:34<00:06, 33.36it/s]"
     ]
    },
    {
     "name": "stderr",
     "output_type": "stream",
     "text": [
      "\r 82%|████████▏ | 987/1200 [00:34<00:06, 31.30it/s]"
     ]
    },
    {
     "name": "stderr",
     "output_type": "stream",
     "text": [
      "\r 83%|████████▎ | 991/1200 [00:34<00:06, 31.95it/s]"
     ]
    },
    {
     "name": "stderr",
     "output_type": "stream",
     "text": [
      "\r 83%|████████▎ | 995/1200 [00:34<00:06, 31.64it/s]"
     ]
    },
    {
     "name": "stderr",
     "output_type": "stream",
     "text": [
      "\r 83%|████████▎ | 999/1200 [00:34<00:06, 31.42it/s]"
     ]
    },
    {
     "name": "stderr",
     "output_type": "stream",
     "text": [
      "\r 84%|████████▎ | 1003/1200 [00:34<00:05, 32.97it/s]"
     ]
    },
    {
     "name": "stderr",
     "output_type": "stream",
     "text": [
      "\r 84%|████████▍ | 1007/1200 [00:34<00:05, 33.17it/s]"
     ]
    },
    {
     "name": "stderr",
     "output_type": "stream",
     "text": [
      "\r 84%|████████▍ | 1011/1200 [00:34<00:05, 33.42it/s]"
     ]
    },
    {
     "name": "stderr",
     "output_type": "stream",
     "text": [
      "\r 85%|████████▍ | 1015/1200 [00:35<00:05, 33.59it/s]"
     ]
    },
    {
     "name": "stderr",
     "output_type": "stream",
     "text": [
      "\r 85%|████████▍ | 1019/1200 [00:35<00:05, 33.14it/s]"
     ]
    },
    {
     "name": "stderr",
     "output_type": "stream",
     "text": [
      "\r 85%|████████▌ | 1023/1200 [00:35<00:05, 31.95it/s]"
     ]
    },
    {
     "name": "stderr",
     "output_type": "stream",
     "text": [
      "\r 86%|████████▌ | 1027/1200 [00:35<00:05, 32.10it/s]"
     ]
    },
    {
     "name": "stderr",
     "output_type": "stream",
     "text": [
      "\r 86%|████████▌ | 1031/1200 [00:35<00:05, 31.81it/s]"
     ]
    },
    {
     "name": "stderr",
     "output_type": "stream",
     "text": [
      "\r 86%|████████▋ | 1035/1200 [00:35<00:05, 31.64it/s]"
     ]
    },
    {
     "name": "stderr",
     "output_type": "stream",
     "text": [
      "\r 87%|████████▋ | 1039/1200 [00:35<00:05, 31.76it/s]"
     ]
    },
    {
     "name": "stderr",
     "output_type": "stream",
     "text": [
      "\r 87%|████████▋ | 1043/1200 [00:35<00:04, 31.99it/s]"
     ]
    },
    {
     "name": "stderr",
     "output_type": "stream",
     "text": [
      "\r 87%|████████▋ | 1047/1200 [00:36<00:04, 32.45it/s]"
     ]
    },
    {
     "name": "stderr",
     "output_type": "stream",
     "text": [
      "\r 88%|████████▊ | 1051/1200 [00:36<00:04, 32.30it/s]"
     ]
    },
    {
     "name": "stderr",
     "output_type": "stream",
     "text": [
      "\r 88%|████████▊ | 1055/1200 [00:36<00:04, 32.96it/s]"
     ]
    },
    {
     "name": "stderr",
     "output_type": "stream",
     "text": [
      "\r 88%|████████▊ | 1059/1200 [00:36<00:04, 32.76it/s]"
     ]
    },
    {
     "name": "stderr",
     "output_type": "stream",
     "text": [
      "\r 89%|████████▊ | 1063/1200 [00:36<00:04, 32.93it/s]"
     ]
    },
    {
     "name": "stderr",
     "output_type": "stream",
     "text": [
      "\r 89%|████████▉ | 1067/1200 [00:36<00:04, 31.30it/s]"
     ]
    },
    {
     "name": "stderr",
     "output_type": "stream",
     "text": [
      "\r 89%|████████▉ | 1071/1200 [00:36<00:04, 31.48it/s]"
     ]
    },
    {
     "name": "stderr",
     "output_type": "stream",
     "text": [
      "\r 90%|████████▉ | 1075/1200 [00:36<00:04, 30.48it/s]"
     ]
    },
    {
     "name": "stderr",
     "output_type": "stream",
     "text": [
      "\r 90%|████████▉ | 1079/1200 [00:37<00:04, 30.12it/s]"
     ]
    },
    {
     "name": "stderr",
     "output_type": "stream",
     "text": [
      "\r 90%|█████████ | 1083/1200 [00:37<00:04, 28.97it/s]"
     ]
    },
    {
     "name": "stderr",
     "output_type": "stream",
     "text": [
      "\r 91%|█████████ | 1087/1200 [00:37<00:03, 29.12it/s]"
     ]
    },
    {
     "name": "stderr",
     "output_type": "stream",
     "text": [
      "\r 91%|█████████ | 1090/1200 [00:37<00:03, 28.44it/s]"
     ]
    },
    {
     "name": "stderr",
     "output_type": "stream",
     "text": [
      "\r 91%|█████████ | 1093/1200 [00:37<00:03, 28.13it/s]"
     ]
    },
    {
     "name": "stderr",
     "output_type": "stream",
     "text": [
      "\r 91%|█████████▏| 1096/1200 [00:37<00:03, 27.96it/s]"
     ]
    },
    {
     "name": "stderr",
     "output_type": "stream",
     "text": [
      "\r 92%|█████████▏| 1099/1200 [00:37<00:03, 28.33it/s]"
     ]
    },
    {
     "name": "stderr",
     "output_type": "stream",
     "text": [
      "\r 92%|█████████▏| 1103/1200 [00:37<00:03, 28.96it/s]"
     ]
    },
    {
     "name": "stderr",
     "output_type": "stream",
     "text": [
      "\r 92%|█████████▏| 1106/1200 [00:38<00:03, 28.35it/s]"
     ]
    },
    {
     "name": "stderr",
     "output_type": "stream",
     "text": [
      "\r 92%|█████████▏| 1109/1200 [00:38<00:03, 27.32it/s]"
     ]
    },
    {
     "name": "stderr",
     "output_type": "stream",
     "text": [
      "\r 93%|█████████▎| 1112/1200 [00:38<00:03, 25.61it/s]"
     ]
    },
    {
     "name": "stderr",
     "output_type": "stream",
     "text": [
      "\r 93%|█████████▎| 1116/1200 [00:38<00:03, 27.44it/s]"
     ]
    },
    {
     "name": "stderr",
     "output_type": "stream",
     "text": [
      "\r 93%|█████████▎| 1119/1200 [00:38<00:02, 27.92it/s]"
     ]
    },
    {
     "name": "stderr",
     "output_type": "stream",
     "text": [
      "\r 94%|█████████▎| 1123/1200 [00:38<00:02, 28.46it/s]"
     ]
    },
    {
     "name": "stderr",
     "output_type": "stream",
     "text": [
      "\r 94%|█████████▍| 1127/1200 [00:38<00:02, 29.51it/s]"
     ]
    },
    {
     "name": "stderr",
     "output_type": "stream",
     "text": [
      "\r 94%|█████████▍| 1131/1200 [00:38<00:02, 29.94it/s]"
     ]
    },
    {
     "name": "stderr",
     "output_type": "stream",
     "text": [
      "\r 95%|█████████▍| 1135/1200 [00:39<00:02, 29.89it/s]"
     ]
    },
    {
     "name": "stderr",
     "output_type": "stream",
     "text": [
      "\r 95%|█████████▍| 1139/1200 [00:39<00:02, 30.26it/s]"
     ]
    },
    {
     "name": "stderr",
     "output_type": "stream",
     "text": [
      "\r 95%|█████████▌| 1143/1200 [00:39<00:02, 28.33it/s]"
     ]
    },
    {
     "name": "stderr",
     "output_type": "stream",
     "text": [
      "\r 96%|█████████▌| 1147/1200 [00:39<00:01, 29.17it/s]"
     ]
    },
    {
     "name": "stderr",
     "output_type": "stream",
     "text": [
      "\r 96%|█████████▌| 1151/1200 [00:39<00:01, 29.95it/s]"
     ]
    },
    {
     "name": "stderr",
     "output_type": "stream",
     "text": [
      "\r 96%|█████████▋| 1155/1200 [00:39<00:01, 29.99it/s]"
     ]
    },
    {
     "name": "stderr",
     "output_type": "stream",
     "text": [
      "\r 97%|█████████▋| 1159/1200 [00:39<00:01, 29.99it/s]"
     ]
    },
    {
     "name": "stderr",
     "output_type": "stream",
     "text": [
      "\r 97%|█████████▋| 1163/1200 [00:40<00:01, 29.54it/s]"
     ]
    },
    {
     "name": "stderr",
     "output_type": "stream",
     "text": [
      "\r 97%|█████████▋| 1167/1200 [00:40<00:01, 29.99it/s]"
     ]
    },
    {
     "name": "stderr",
     "output_type": "stream",
     "text": [
      "\r 98%|█████████▊| 1171/1200 [00:40<00:01, 28.42it/s]"
     ]
    },
    {
     "name": "stderr",
     "output_type": "stream",
     "text": [
      "\r 98%|█████████▊| 1174/1200 [00:40<00:00, 27.80it/s]"
     ]
    },
    {
     "name": "stderr",
     "output_type": "stream",
     "text": [
      "\r 98%|█████████▊| 1178/1200 [00:40<00:00, 28.84it/s]"
     ]
    },
    {
     "name": "stderr",
     "output_type": "stream",
     "text": [
      "\r 98%|█████████▊| 1182/1200 [00:40<00:00, 29.46it/s]"
     ]
    },
    {
     "name": "stderr",
     "output_type": "stream",
     "text": [
      "\r 99%|█████████▉| 1186/1200 [00:40<00:00, 30.73it/s]"
     ]
    },
    {
     "name": "stderr",
     "output_type": "stream",
     "text": [
      "\r 99%|█████████▉| 1190/1200 [00:40<00:00, 31.59it/s]"
     ]
    },
    {
     "name": "stderr",
     "output_type": "stream",
     "text": [
      "\r100%|█████████▉| 1194/1200 [00:41<00:00, 31.92it/s]"
     ]
    },
    {
     "name": "stderr",
     "output_type": "stream",
     "text": [
      "\r100%|█████████▉| 1198/1200 [00:41<00:00, 31.55it/s]"
     ]
    },
    {
     "name": "stderr",
     "output_type": "stream",
     "text": [
      "\r100%|█████████▉| 1199/1200 [00:41<00:00, 29.10it/s]"
     ]
    },
    {
     "name": "stderr",
     "output_type": "stream",
     "text": [
      "\n"
     ]
    },
    {
     "name": "stdout",
     "output_type": "stream",
     "text": [
      "[MoviePy] Done.\n"
     ]
    },
    {
     "name": "stdout",
     "output_type": "stream",
     "text": [
      "[MoviePy] >>>> Video ready: ./output/videos/006 - Advanced Project Harder Challenge.mp4 \n\n"
     ]
    },
    {
     "name": "stdout",
     "output_type": "stream",
     "text": [
      "CPU times: user 40.3 s, sys: 8.83 s, total: 49.1 s\nWall time: 42.2 s\n"
     ]
    }
   ],
   "source": [
    "\n",
    "for videoName in videosNames:\n",
    "    output = process_video(videoName)\n"
   ]
  },
  {
   "cell_type": "code",
   "execution_count": null,
   "metadata": {},
   "outputs": [],
   "source": [
    ""
   ]
  }
 ],
 "metadata": {
  "kernelspec": {
   "display_name": "Python 2",
   "language": "python",
   "name": "python2"
  },
  "language_info": {
   "codemirror_mode": {
    "name": "ipython",
    "version": 2
   },
   "file_extension": ".py",
   "mimetype": "text/x-python",
   "name": "python",
   "nbconvert_exporter": "python",
   "pygments_lexer": "ipython2",
   "version": "2.7.6"
  }
 },
 "nbformat": 4,
 "nbformat_minor": 0
}
