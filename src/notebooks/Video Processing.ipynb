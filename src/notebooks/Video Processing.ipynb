{
 "cells": [
  {
   "cell_type": "markdown",
   "metadata": {},
   "source": [
    "# 0. Load all dependencies"
   ]
  },
  {
   "cell_type": "code",
   "execution_count": 29,
   "metadata": {},
   "outputs": [
    {
     "name": "stdout",
     "output_type": "stream",
     "text": [
      "Reloading Modules...\n",
      "\n",
      "Modules Reloaded!\n"
     ]
    }
   ],
   "source": [
    "\n",
    "# Importing some useful packages\n",
    "\n",
    "from importlib import reload\n",
    "from matplotlib.patches import Polygon\n",
    "from moviepy.editor import VideoFileClip\n",
    "from IPython.display import HTML\n",
    "\n",
    "import matplotlib.pyplot as plt\n",
    "import matplotlib.image as mpimg\n",
    "import numpy as np\n",
    "import sys\n",
    "import os\n",
    "import glob\n",
    "import pickle\n",
    "import cv2\n",
    "\n",
    "sys.path.append(\"../../\") # go to parent dir\n",
    "\n",
    "# Visualizations will be shown in the notebook:\n",
    "\n",
    "%matplotlib inline\n",
    "\n",
    "\n",
    "# Import local deps\n",
    "\n",
    "import src.helpers.lineRegressorWithMemory as LRM\n",
    "import src.helpers.imageProcessing as IP\n",
    "import src.helpers.plot as P\n",
    "import src.helpers.cameraCalibration as C\n",
    "import src.helpers.laneFinder as LF\n",
    "import src.helpers.imagePreprocessingPipeline as IPP\n",
    "import src.helpers.polyFitPipeline as PFP\n",
    "\n",
    "\n",
    "if 'src.helpers.imageProcessing' in sys.modules:\n",
    "    print(\"Reloading Modules...\")\n",
    "    \n",
    "    reload(LRM)\n",
    "    reload(IP)\n",
    "    reload(P)\n",
    "    reload(C)\n",
    "    reload(LF)\n",
    "    reload(IPP)\n",
    "    reload(PFP)\n",
    "\n",
    "    print(\"\\nModules Reloaded!\")\n"
   ]
  },
  {
   "cell_type": "markdown",
   "metadata": {},
   "source": [
    "# 1. Load camera calibration and calculate M transform matrix"
   ]
  },
  {
   "cell_type": "code",
   "execution_count": 22,
   "metadata": {},
   "outputs": [],
   "source": [
    "# Load an image\n",
    "\n",
    "anyImage = mpimg.imread(\"../../input/images/001 - Yellow Straight.jpg\")\n",
    "\n",
    "\n",
    "# Get image count & dimensions\n",
    "\n",
    "WIDTH = anyImage.shape[1]\n",
    "HEIGHT = anyImage.shape[0]\n",
    "\n",
    "\n",
    "# Load camera calibration\n",
    "\n",
    "data = pickle.load(open('../../output/data/calibration.p', 'rb'))\n",
    "mtx = data[\"mtx\"]\n",
    "dist = data[\"dist\"]\n",
    "\n",
    "\n",
    "# Calculate perpective transform matrixs\n",
    "\n",
    "MIDDLE = WIDTH // 2\n",
    "H_MARGIN_TOP = 50\n",
    "H_MARGIN_BOTTOM = 215\n",
    "CORRECTION = 15\n",
    "DST_MARGIN_H = 400\n",
    "DST_MARGIN_TOP = 100\n",
    "\n",
    "src = np.array([\n",
    "    (MIDDLE - H_MARGIN_TOP + CORRECTION - 10, 450),\n",
    "    (MIDDLE + H_MARGIN_TOP + CORRECTION - 22, 450), \n",
    "    (WIDTH - H_MARGIN_BOTTOM + CORRECTION - 5, 700), \n",
    "    (H_MARGIN_BOTTOM + CORRECTION, 700)\n",
    "], np.float32)\n",
    "\n",
    "dst = np.array([\n",
    "    (DST_MARGIN_H, DST_MARGIN_TOP),\n",
    "    (WIDTH - DST_MARGIN_H, DST_MARGIN_TOP),\n",
    "    (WIDTH - DST_MARGIN_H, HEIGHT),\n",
    "    (DST_MARGIN_H, HEIGHT)\n",
    "], np.float32)\n",
    "\n",
    "M, Minv = C.getM(src, dst)\n"
   ]
  },
  {
   "cell_type": "markdown",
   "metadata": {},
   "source": [
    "# 2. Create video processing pipeline"
   ]
  },
  {
   "cell_type": "code",
   "execution_count": 23,
   "metadata": {},
   "outputs": [
    {
     "name": "stdout",
     "output_type": "stream",
     "text": [
      "Available videos:\n",
      "\n",
      "004 - Advanced Project.mp4\n"
     ]
    }
   ],
   "source": [
    "\n",
    "# IMAGE PROCESSING:\n",
    "\n",
    "# rightLineStream = LRM.LineStream()\n",
    "# leftLineStream = LRM.LineStream()\n",
    "\n",
    "def process_image(imageRGB):\n",
    "    # NOTE: The output you return should be a color image (3 channel) for processing video below\n",
    "    # TODO: put your pipeline here,\n",
    "    # you should return the final output (image where lines are drawn on lanes)\n",
    "    \n",
    "    imgUndistorted = C.undistort(imageRGB, mtx, dist)\n",
    "    imgBinary = IPP.pipeline(imgUndistorted, M)\n",
    "    \n",
    "    return PFP.pipeline(imgUndistorted, imgBinary, Minv)\n",
    "\n",
    "\n",
    "# VIDEO PROCESSING:\n",
    "\n",
    "outputDir = \"../../output/videos/\"\n",
    "videosDir = \"../../input/videos/\"\n",
    "videosNames = os.listdir(videosDir)\n",
    "\n",
    "videosNames = [\"004 - Advanced Project.mp4\"]\n",
    "\n",
    "def process_video(videoName):\n",
    "    print(\"--------\\n\\nProcessing %s:\" % videoName)\n",
    "\n",
    "    # rightLineStream.reset()\n",
    "    # leftLineStream.reset()\n",
    "    \n",
    "    inputClip = VideoFileClip(videosDir + videoName)\n",
    "    outputClip = inputClip.fl_image(process_image) # NOTE: this function expects color images!\n",
    "    %time outputClip.write_videofile(outputDir + videoName, audio=False)\n",
    "    \n",
    "    return outputClip\n",
    "    \n",
    "print(\"Available videos:\\n\")\n",
    "\n",
    "for videoName in videosNames: print(videoName)\n",
    "    "
   ]
  },
  {
   "cell_type": "markdown",
   "metadata": {},
   "source": [
    "# 3. Process videos"
   ]
  },
  {
   "cell_type": "code",
   "execution_count": 30,
   "metadata": {},
   "outputs": [
    {
     "name": "stdout",
     "output_type": "stream",
     "text": [
      "--------\n",
      "\n",
      "Processing 004 - Advanced Project.mp4:\n",
      "[MoviePy] >>>> Building video ../../output/videos/004 - Advanced Project.mp4\n",
      "[MoviePy] Writing video ../../output/videos/004 - Advanced Project.mp4\n"
     ]
    },
    {
     "name": "stderr",
     "output_type": "stream",
     "text": [
      "100%|██████████████████████████████████████████████████████████████████████████▉| 1260/1261 [04:11<00:00,  4.79it/s]\n"
     ]
    },
    {
     "name": "stdout",
     "output_type": "stream",
     "text": [
      "[MoviePy] Done.\n",
      "[MoviePy] >>>> Video ready: ../../output/videos/004 - Advanced Project.mp4 \n",
      "\n",
      "Wall time: 4min 11s\n"
     ]
    }
   ],
   "source": [
    "\n",
    "for videoName in videosNames:\n",
    "    output = process_video(videoName)\n"
   ]
  },
  {
   "cell_type": "code",
   "execution_count": null,
   "metadata": {},
   "outputs": [],
   "source": []
  }
 ],
 "metadata": {
  "kernelspec": {
   "display_name": "Python 3",
   "language": "python",
   "name": "python3"
  },
  "language_info": {
   "codemirror_mode": {
    "name": "ipython",
    "version": 3
   },
   "file_extension": ".py",
   "mimetype": "text/x-python",
   "name": "python",
   "nbconvert_exporter": "python",
   "pygments_lexer": "ipython3",
   "version": "3.5.2"
  },
  "widgets": {
   "state": {},
   "version": "1.1.2"
  }
 },
 "nbformat": 4,
 "nbformat_minor": 1
}
